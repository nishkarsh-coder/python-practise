{
  "nbformat": 4,
  "nbformat_minor": 0,
  "metadata": {
    "colab": {
      "name": "set.ipynb",
      "provenance": [],
      "authorship_tag": "ABX9TyN8S2YFCJ3f0eyYeWfpcejj",
      "include_colab_link": true
    },
    "kernelspec": {
      "name": "python3",
      "display_name": "Python 3"
    },
    "language_info": {
      "name": "python"
    }
  },
  "cells": [
    {
      "cell_type": "markdown",
      "metadata": {
        "id": "view-in-github",
        "colab_type": "text"
      },
      "source": [
        "<a href=\"https://colab.research.google.com/github/nishkarsh-coder/python-practise/blob/main/set.ipynb\" target=\"_parent\"><img src=\"https://colab.research.google.com/assets/colab-badge.svg\" alt=\"Open In Colab\"/></a>"
      ]
    },
    {
      "cell_type": "markdown",
      "source": [
        "##Set { }\n",
        "\n",
        "\n",
        "\n",
        "*   Not Scriptable(ordered nahi hota isliye hum isko index ki help se access nahi kar sakte..)\n",
        "*Could be Heteregeneous\n",
        "* Not Ordered\n",
        "* Immutable(kyonki ye scriptable hota nahi hai isliye kisi element ko change karna possible nahi hai par haan isme hum elemnt add kar sakte hai aur delete kar sakte hai par change nahi kar sakte)\n",
        "* no Repetitons Allowed(unique values)\n",
        "*  hum isme append() se nahi add() se element add karte hai\n",
        "*  we cannot be used + operator on sets but we can use - opeartor on sets."
      ],
      "metadata": {
        "id": "8NEPpE0ydaUa"
      }
    },
    {
      "cell_type": "code",
      "execution_count": 2,
      "metadata": {
        "colab": {
          "base_uri": "https://localhost:8080/"
        },
        "id": "_mVB5t67bdzb",
        "outputId": "c473d7f0-5cdd-4c96-e084-3ec1d6162a6b"
      },
      "outputs": [
        {
          "output_type": "stream",
          "name": "stdout",
          "text": [
            "<class 'set'>\n"
          ]
        }
      ],
      "source": [
        "sets={\"nishu\",\"Apple\",45,68}\n",
        "print(type(sets))"
      ]
    },
    {
      "cell_type": "code",
      "source": [
        "sets[2]  #we can not do scripting"
      ],
      "metadata": {
        "colab": {
          "base_uri": "https://localhost:8080/",
          "height": 165
        },
        "id": "vl66GpIabo5F",
        "outputId": "e690a67e-4e48-4ac2-e91e-f3edcef2ec46"
      },
      "execution_count": 4,
      "outputs": [
        {
          "output_type": "error",
          "ename": "TypeError",
          "evalue": "ignored",
          "traceback": [
            "\u001b[0;31m---------------------------------------------------------------------------\u001b[0m",
            "\u001b[0;31mTypeError\u001b[0m                                 Traceback (most recent call last)",
            "\u001b[0;32m<ipython-input-4-7f9fcb6c4773>\u001b[0m in \u001b[0;36m<module>\u001b[0;34m()\u001b[0m\n\u001b[0;32m----> 1\u001b[0;31m \u001b[0msets\u001b[0m\u001b[0;34m[\u001b[0m\u001b[0;36m2\u001b[0m\u001b[0;34m]\u001b[0m  \u001b[0;31m#we can not do scripting\u001b[0m\u001b[0;34m\u001b[0m\u001b[0;34m\u001b[0m\u001b[0m\n\u001b[0m",
            "\u001b[0;31mTypeError\u001b[0m: 'set' object is not subscriptable"
          ]
        }
      ]
    },
    {
      "cell_type": "code",
      "source": [
        "sets[5]=6  #we can not change set item because set is not scriptable..  so basically set is immutable.."
      ],
      "metadata": {
        "colab": {
          "base_uri": "https://localhost:8080/",
          "height": 165
        },
        "id": "FX4qT6DLbwal",
        "outputId": "3b80c2cc-15fd-4dd1-91f6-5204d97618ee"
      },
      "execution_count": 5,
      "outputs": [
        {
          "output_type": "error",
          "ename": "TypeError",
          "evalue": "ignored",
          "traceback": [
            "\u001b[0;31m---------------------------------------------------------------------------\u001b[0m",
            "\u001b[0;31mTypeError\u001b[0m                                 Traceback (most recent call last)",
            "\u001b[0;32m<ipython-input-5-380d05e79e20>\u001b[0m in \u001b[0;36m<module>\u001b[0;34m()\u001b[0m\n\u001b[0;32m----> 1\u001b[0;31m \u001b[0msets\u001b[0m\u001b[0;34m[\u001b[0m\u001b[0;36m5\u001b[0m\u001b[0;34m]\u001b[0m\u001b[0;34m=\u001b[0m\u001b[0;36m6\u001b[0m  \u001b[0;31m#we can not change set item because set is not scriptable..  so basically set is immutable..\u001b[0m\u001b[0;34m\u001b[0m\u001b[0;34m\u001b[0m\u001b[0m\n\u001b[0m",
            "\u001b[0;31mTypeError\u001b[0m: 'set' object does not support item assignment"
          ]
        }
      ]
    },
    {
      "cell_type": "markdown",
      "source": [
        "## ADD Element\n",
        "append() se nahi add() se add hote hai elemnet set m\n"
      ],
      "metadata": {
        "id": "ap8gu11pfd_Y"
      }
    },
    {
      "cell_type": "code",
      "source": [
        "sets.append(\"ramu\")  \n",
        "print(sets)\n"
      ],
      "metadata": {
        "colab": {
          "base_uri": "https://localhost:8080/",
          "height": 183
        },
        "id": "gDzrEQeBcDpQ",
        "outputId": "065fc56c-6059-475c-d081-82b6d8f0c887"
      },
      "execution_count": 6,
      "outputs": [
        {
          "output_type": "error",
          "ename": "AttributeError",
          "evalue": "ignored",
          "traceback": [
            "\u001b[0;31m---------------------------------------------------------------------------\u001b[0m",
            "\u001b[0;31mAttributeError\u001b[0m                            Traceback (most recent call last)",
            "\u001b[0;32m<ipython-input-6-e284f5ee60b9>\u001b[0m in \u001b[0;36m<module>\u001b[0;34m()\u001b[0m\n\u001b[0;32m----> 1\u001b[0;31m \u001b[0msets\u001b[0m\u001b[0;34m.\u001b[0m\u001b[0mappend\u001b[0m\u001b[0;34m(\u001b[0m\u001b[0;34m\"ramu\"\u001b[0m\u001b[0;34m)\u001b[0m\u001b[0;34m\u001b[0m\u001b[0;34m\u001b[0m\u001b[0m\n\u001b[0m\u001b[1;32m      2\u001b[0m \u001b[0mprint\u001b[0m\u001b[0;34m(\u001b[0m\u001b[0msets\u001b[0m\u001b[0;34m)\u001b[0m\u001b[0;34m\u001b[0m\u001b[0;34m\u001b[0m\u001b[0m\n",
            "\u001b[0;31mAttributeError\u001b[0m: 'set' object has no attribute 'append'"
          ]
        }
      ]
    },
    {
      "cell_type": "code",
      "source": [
        "# add fucntion ek time pe ek hi element add karta hai\n",
        "\n",
        "sets.add(\"ramu\")\n",
        "print(sets)\n",
        "\n",
        "#update function ek time pe multiple elemnts ko add karta hai\n",
        "\n",
        "sets.update([\"kin\",5,\"hello\"])\n",
        "print(sets)"
      ],
      "metadata": {
        "colab": {
          "base_uri": "https://localhost:8080/"
        },
        "id": "jxssBM4bcUnp",
        "outputId": "0c837e58-e007-458e-a486-0ec4197e363b"
      },
      "execution_count": 25,
      "outputs": [
        {
          "output_type": "stream",
          "name": "stdout",
          "text": [
            "{68, 'nishu', 45, 'Apple', 'ramu'}\n",
            "{68, 5, 'nishu', 45, 'kin', 'Apple', 'hello', 'ramu'}\n"
          ]
        }
      ]
    },
    {
      "cell_type": "markdown",
      "source": [
        "## REMOVE Element\n",
        "\n",
        "\n",
        "we can remove elemnt using two funciton\n",
        "1.   remove()\n",
        "2.   discard()\n",
        "\n",
        "Main differnce bewteen both of them is that the discard() function leaves a set unchanged if the element is not present in the set. On the other hand, the remove() function will raise an error in such a condition (if element is not present in the set).\n",
        "\n"
      ],
      "metadata": {
        "id": "OkErF1MKK-aO"
      }
    },
    {
      "cell_type": "code",
      "source": [
        "# Difference between discard() and remove()\n",
        "\n",
        "# initialize my_set\n",
        "my_set = {1, 3, 4, 5, 6}\n",
        "print(my_set)\n",
        "\n",
        "# discard an element\n",
        "# Output: {1, 3, 5, 6}\n",
        "my_set.discard(4)\n",
        "print(my_set)\n",
        "\n",
        "# remove an element\n",
        "# Output: {1, 3, 5}\n",
        "my_set.remove(6)\n",
        "print(my_set)\n",
        "\n",
        "# discard an element\n",
        "# not present in my_set\n",
        "# Output: {1, 3, 5}\n",
        "my_set.discard(2)\n",
        "print(my_set)\n",
        "\n",
        "# remove an element\n",
        "# not present in my_set\n",
        "# you will get an error.\n",
        "# Output: KeyError\n",
        "\n",
        "my_set.remove(2)"
      ],
      "metadata": {
        "colab": {
          "base_uri": "https://localhost:8080/",
          "height": 269
        },
        "id": "JzfQER07LhF8",
        "outputId": "f9be4373-5708-417f-d75a-54152a968368"
      },
      "execution_count": 26,
      "outputs": [
        {
          "output_type": "stream",
          "name": "stdout",
          "text": [
            "{1, 3, 4, 5, 6}\n",
            "{1, 3, 5, 6}\n",
            "{1, 3, 5}\n",
            "{1, 3, 5}\n"
          ]
        },
        {
          "output_type": "error",
          "ename": "KeyError",
          "evalue": "ignored",
          "traceback": [
            "\u001b[0;31m---------------------------------------------------------------------------\u001b[0m",
            "\u001b[0;31mKeyError\u001b[0m                                  Traceback (most recent call last)",
            "\u001b[0;32m<ipython-input-26-8cb8edd7dd9a>\u001b[0m in \u001b[0;36m<module>\u001b[0;34m()\u001b[0m\n\u001b[1;32m     26\u001b[0m \u001b[0;31m# Output: KeyError\u001b[0m\u001b[0;34m\u001b[0m\u001b[0;34m\u001b[0m\u001b[0;34m\u001b[0m\u001b[0m\n\u001b[1;32m     27\u001b[0m \u001b[0;34m\u001b[0m\u001b[0m\n\u001b[0;32m---> 28\u001b[0;31m \u001b[0mmy_set\u001b[0m\u001b[0;34m.\u001b[0m\u001b[0mremove\u001b[0m\u001b[0;34m(\u001b[0m\u001b[0;36m2\u001b[0m\u001b[0;34m)\u001b[0m\u001b[0;34m\u001b[0m\u001b[0;34m\u001b[0m\u001b[0m\n\u001b[0m",
            "\u001b[0;31mKeyError\u001b[0m: 2"
          ]
        }
      ]
    },
    {
      "cell_type": "markdown",
      "source": [
        "\n",
        "\n",
        "## Convert different type of iterables into set..\n",
        "#### using set() function\n",
        "1. list"
      ],
      "metadata": {
        "id": "q6JGyocJgV13"
      }
    },
    {
      "cell_type": "code",
      "source": [
        "list1=[\"ramu\",\"sham\",56,\"sona\",56.5]\n",
        "set1=set(list1)\n",
        "print(set1)\n",
        "print(type(list1))"
      ],
      "metadata": {
        "colab": {
          "base_uri": "https://localhost:8080/"
        },
        "id": "Nh2FpuYWgdgO",
        "outputId": "6b2c4fb0-2ff4-4e03-a8bc-a84bbe215695"
      },
      "execution_count": 8,
      "outputs": [
        {
          "output_type": "stream",
          "name": "stdout",
          "text": [
            "{'sham', 'sona', 56, 'ramu', 56.5}\n",
            "<class 'list'>\n"
          ]
        }
      ]
    },
    {
      "cell_type": "markdown",
      "source": [
        "2. tuple\n"
      ],
      "metadata": {
        "id": "J648tVkbvOYC"
      }
    },
    {
      "cell_type": "code",
      "source": [
        "tuples=(1,22,56,\"nishu\")\n",
        "set2=set(tuples)\n",
        "print(set2)\n"
      ],
      "metadata": {
        "id": "MtG55tPdgr0g",
        "colab": {
          "base_uri": "https://localhost:8080/"
        },
        "outputId": "87b262f0-9d7a-4ef3-bedf-2aea2d9c2153"
      },
      "execution_count": 9,
      "outputs": [
        {
          "output_type": "stream",
          "name": "stdout",
          "text": [
            "{56, 1, 'nishu', 22}\n"
          ]
        }
      ]
    },
    {
      "cell_type": "markdown",
      "source": [
        "3. dictionary\n",
        "\n",
        "  i) yaad rakhna hai agar dict ko set() ke andar likhenge toh keys ko set m convert karega only\n",
        "  \n",
        "  ii) agar hume values ko set m likhna hai toh dict.values() likhna padhega set() ke andar"
      ],
      "metadata": {
        "id": "8I8r8vjxvmht"
      }
    },
    {
      "cell_type": "code",
      "source": [
        "dicts={\"nishu\":56,\"ramu\":98,\"sham\":\"hey\"}\n",
        "set3=set(dicts)\n",
        "print(set3)\n"
      ],
      "metadata": {
        "colab": {
          "base_uri": "https://localhost:8080/"
        },
        "id": "4wc5OWnOAwJV",
        "outputId": "bc58f3cc-f28f-4f29-8f3d-310fa5d31fe8"
      },
      "execution_count": 11,
      "outputs": [
        {
          "output_type": "stream",
          "name": "stdout",
          "text": [
            "{'sham', 'nishu', 'ramu'}\n"
          ]
        }
      ]
    },
    {
      "cell_type": "code",
      "source": [
        "set4= set(dicts.values())\n",
        "print(set4)"
      ],
      "metadata": {
        "colab": {
          "base_uri": "https://localhost:8080/"
        },
        "id": "V27j1-cxCAej",
        "outputId": "43189eab-c666-4cf3-ac91-4d4613ed8325"
      },
      "execution_count": 12,
      "outputs": [
        {
          "output_type": "stream",
          "name": "stdout",
          "text": [
            "{56, 98, 'hey'}\n"
          ]
        }
      ]
    },
    {
      "cell_type": "code",
      "source": [
        "set5=set(dicts.items())\n",
        "print(set5)"
      ],
      "metadata": {
        "colab": {
          "base_uri": "https://localhost:8080/"
        },
        "id": "T-eeh79w9qkj",
        "outputId": "8b976ca0-a17a-4cf6-94e7-b972f070a1e6"
      },
      "execution_count": 14,
      "outputs": [
        {
          "output_type": "stream",
          "name": "stdout",
          "text": [
            "{('ramu', 98), ('nishu', 56), ('sham', 'hey')}\n"
          ]
        }
      ]
    },
    {
      "cell_type": "markdown",
      "source": [
        "# Methods in set\n",
        "\n",
        "###1. union\n",
        "\n",
        "union karne ke liye **set_name1.union(set_name2)** or **set1|set2** m se kisi ek ka istemaal karte hai.. "
      ],
      "metadata": {
        "id": "7EYQh4yr_BKM"
      }
    },
    {
      "cell_type": "code",
      "source": [
        "print(set1)\n",
        "print(set2)"
      ],
      "metadata": {
        "colab": {
          "base_uri": "https://localhost:8080/"
        },
        "id": "Nh90TXV49xtB",
        "outputId": "2dd87d02-a616-4d3d-f8df-03066da17fd6"
      },
      "execution_count": 15,
      "outputs": [
        {
          "output_type": "stream",
          "name": "stdout",
          "text": [
            "{'sham', 'sona', 56, 'ramu', 56.5}\n",
            "{56, 1, 'nishu', 22}\n"
          ]
        }
      ]
    },
    {
      "cell_type": "code",
      "source": [
        "# if we want union of set1 nd set2 \n",
        "set6= set1.union(set2)\n",
        "print(set6)\n",
        "\n",
        "# and we have another alternative also\n",
        "set7=set1|set2\n",
        "print(set7)\n",
        "\n",
        "we have both option"
      ],
      "metadata": {
        "colab": {
          "base_uri": "https://localhost:8080/"
        },
        "id": "_UW7rJYs_q5B",
        "outputId": "e114e919-2c41-4fd7-9669-40c8f59b092e"
      },
      "execution_count": 18,
      "outputs": [
        {
          "output_type": "stream",
          "name": "stdout",
          "text": [
            "{'sham', 1, 'nishu', 'sona', 22, 56, 'ramu', 56.5}\n",
            "{'sham', 1, 'nishu', 'sona', 22, 56, 'ramu', 56.5}\n"
          ]
        }
      ]
    },
    {
      "cell_type": "markdown",
      "source": [
        "### 2. intersection\n",
        "\n",
        "agar apne ko intersection karna ho 2 set ka toh set1.**intersection(set2)** yaa **set1&set2** operator m se koi ek \n",
        "\n",
        "istemal kar sakte hai..\n",
        "\n"
      ],
      "metadata": {
        "id": "r4EYQ4-aAP8m"
      }
    },
    {
      "cell_type": "code",
      "source": [
        "set8=set1.intersection(set2)\n",
        "print(set8)\n",
        "set9= set1&set2\n",
        "print(set9)"
      ],
      "metadata": {
        "colab": {
          "base_uri": "https://localhost:8080/"
        },
        "id": "sNmI4CpN_1oY",
        "outputId": "70d847de-c00f-463c-af38-384657935b57"
      },
      "execution_count": 20,
      "outputs": [
        {
          "output_type": "stream",
          "name": "stdout",
          "text": [
            "{56}\n",
            "{56}\n"
          ]
        }
      ]
    },
    {
      "cell_type": "code",
      "source": [
        ""
      ],
      "metadata": {
        "id": "6BQwbyk1Bks_"
      },
      "execution_count": null,
      "outputs": []
    },
    {
      "cell_type": "markdown",
      "source": [
        "### note(important question):\n",
        "set m ordering se matlab nahi hota...\n",
        "elements se hota hai"
      ],
      "metadata": {
        "id": "Tz24STNXFm1u"
      }
    },
    {
      "cell_type": "code",
      "source": [
        "#Question1\n",
        "a={1,2,3,4,5,6}\n",
        "b={6,1,3,4,5,2}\n",
        "\n",
        "print(a==b)"
      ],
      "metadata": {
        "colab": {
          "base_uri": "https://localhost:8080/"
        },
        "id": "dzHEX0xpFq5N",
        "outputId": "1975f8eb-e895-4608-b641-1505ba6afbcf"
      },
      "execution_count": 21,
      "outputs": [
        {
          "output_type": "stream",
          "name": "stdout",
          "text": [
            "True\n"
          ]
        }
      ]
    },
    {
      "cell_type": "code",
      "source": [
        "#Question 2\n",
        "x={1,True,(\"a\",\"b\",\"a\")}\n",
        "print(len(x))\n",
        "\n",
        "# In sets True is evaluated to 1. now x becomes {1,1,(\\\"a\\\",\\\"b\\\",\\\"a\\\")} after removing duplicates length of x is 2 \n",
        "\n"
      ],
      "metadata": {
        "colab": {
          "base_uri": "https://localhost:8080/"
        },
        "id": "OIKwx5s6Fusr",
        "outputId": "04f1c869-d590-49f5-faec-2b25eacf72b2"
      },
      "execution_count": 23,
      "outputs": [
        {
          "output_type": "stream",
          "name": "stdout",
          "text": [
            "2\n"
          ]
        }
      ]
    },
    {
      "cell_type": "code",
      "source": [
        "print(x)"
      ],
      "metadata": {
        "colab": {
          "base_uri": "https://localhost:8080/"
        },
        "id": "dOttMbvuGZse",
        "outputId": "2e2176cc-e78b-4d33-8023-ab505ca67ee4"
      },
      "execution_count": 24,
      "outputs": [
        {
          "output_type": "stream",
          "name": "stdout",
          "text": [
            "{1, ('a', 'b', 'a')}\n"
          ]
        }
      ]
    },
    {
      "cell_type": "code",
      "source": [
        ""
      ],
      "metadata": {
        "id": "v8qHtyJTG148"
      },
      "execution_count": null,
      "outputs": []
    }
  ]
}