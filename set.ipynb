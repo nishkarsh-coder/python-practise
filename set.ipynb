{
  "nbformat": 4,
  "nbformat_minor": 0,
  "metadata": {
    "colab": {
      "name": "set.ipynb",
      "provenance": [],
      "authorship_tag": "ABX9TyNSXt9qqeulPvwfq3hLvF5i",
      "include_colab_link": true
    },
    "kernelspec": {
      "name": "python3",
      "display_name": "Python 3"
    },
    "language_info": {
      "name": "python"
    }
  },
  "cells": [
    {
      "cell_type": "markdown",
      "metadata": {
        "id": "view-in-github",
        "colab_type": "text"
      },
      "source": [
        "<a href=\"https://colab.research.google.com/github/nishkarsh-coder/python-practise/blob/main/set.ipynb\" target=\"_parent\"><img src=\"https://colab.research.google.com/assets/colab-badge.svg\" alt=\"Open In Colab\"/></a>"
      ]
    },
    {
      "cell_type": "markdown",
      "source": [
        "##Set { }\n",
        "\n",
        "\n",
        "\n",
        "*   Not Scriptable(ordered nahi hota isliye hum isko index ki help se access nahi kar sakte..)\n",
        "*Could be Heteregeneous\n",
        "* Not Ordered\n",
        "* Immutable(kyonki ye scriptable hota nahi hai isliye kisi element ko change karna possible nahi hai par haan isme hum elemnt add kar sakte hai aur delete kar sakte hai par change nahi kar sakte)\n",
        "* no Repetitons Allowed(unique values)\n",
        "*  hum isme append() se nahi add() se element add karte hai\n",
        "*  we cannot be used + operator on sets but we can use - opeartor on sets."
      ],
      "metadata": {
        "id": "8NEPpE0ydaUa"
      }
    },
    {
      "cell_type": "code",
      "execution_count": 1,
      "metadata": {
        "colab": {
          "base_uri": "https://localhost:8080/"
        },
        "id": "_mVB5t67bdzb",
        "outputId": "f30fb9f6-5c4d-4ba8-9930-a5209b79e4ba"
      },
      "outputs": [
        {
          "output_type": "stream",
          "name": "stdout",
          "text": [
            "<class 'set'>\n"
          ]
        }
      ],
      "source": [
        "sets={\"nishu\",\"Apple\",45,68}\n",
        "print(type(sets))"
      ]
    },
    {
      "cell_type": "code",
      "source": [
        "sets[2]  #we can not do scripting"
      ],
      "metadata": {
        "colab": {
          "base_uri": "https://localhost:8080/",
          "height": 165
        },
        "id": "vl66GpIabo5F",
        "outputId": "3601cec6-2a2f-4415-d0c4-aa0c587d7509"
      },
      "execution_count": 3,
      "outputs": [
        {
          "output_type": "error",
          "ename": "TypeError",
          "evalue": "ignored",
          "traceback": [
            "\u001b[0;31m---------------------------------------------------------------------------\u001b[0m",
            "\u001b[0;31mTypeError\u001b[0m                                 Traceback (most recent call last)",
            "\u001b[0;32m<ipython-input-3-7f9fcb6c4773>\u001b[0m in \u001b[0;36m<module>\u001b[0;34m()\u001b[0m\n\u001b[0;32m----> 1\u001b[0;31m \u001b[0msets\u001b[0m\u001b[0;34m[\u001b[0m\u001b[0;36m2\u001b[0m\u001b[0;34m]\u001b[0m  \u001b[0;31m#we can not do scripting\u001b[0m\u001b[0;34m\u001b[0m\u001b[0;34m\u001b[0m\u001b[0m\n\u001b[0m",
            "\u001b[0;31mTypeError\u001b[0m: 'set' object is not subscriptable"
          ]
        }
      ]
    },
    {
      "cell_type": "code",
      "source": [
        "sets[5]=6  #we can not change set item because set is not scriptable..  so basically set is immutable.."
      ],
      "metadata": {
        "colab": {
          "base_uri": "https://localhost:8080/",
          "height": 165
        },
        "id": "FX4qT6DLbwal",
        "outputId": "71595196-8d52-4d4a-c687-b03790ffea96"
      },
      "execution_count": 4,
      "outputs": [
        {
          "output_type": "error",
          "ename": "TypeError",
          "evalue": "ignored",
          "traceback": [
            "\u001b[0;31m---------------------------------------------------------------------------\u001b[0m",
            "\u001b[0;31mTypeError\u001b[0m                                 Traceback (most recent call last)",
            "\u001b[0;32m<ipython-input-4-380d05e79e20>\u001b[0m in \u001b[0;36m<module>\u001b[0;34m()\u001b[0m\n\u001b[0;32m----> 1\u001b[0;31m \u001b[0msets\u001b[0m\u001b[0;34m[\u001b[0m\u001b[0;36m5\u001b[0m\u001b[0;34m]\u001b[0m\u001b[0;34m=\u001b[0m\u001b[0;36m6\u001b[0m  \u001b[0;31m#we can not change set item because set is not scriptable..  so basically set is immutable..\u001b[0m\u001b[0;34m\u001b[0m\u001b[0;34m\u001b[0m\u001b[0m\n\u001b[0m",
            "\u001b[0;31mTypeError\u001b[0m: 'set' object does not support item assignment"
          ]
        }
      ]
    },
    {
      "cell_type": "markdown",
      "source": [
        "## ADD Element\n",
        "append() se nahi add() se add hote hai elemnet set m\n"
      ],
      "metadata": {
        "id": "ap8gu11pfd_Y"
      }
    },
    {
      "cell_type": "code",
      "source": [
        "sets.append(\"ramu\")  \n",
        "print(sets)\n"
      ],
      "metadata": {
        "colab": {
          "base_uri": "https://localhost:8080/",
          "height": 183
        },
        "id": "gDzrEQeBcDpQ",
        "outputId": "dcd6c1cf-82a2-42fe-a93a-1bedef698891"
      },
      "execution_count": 5,
      "outputs": [
        {
          "output_type": "error",
          "ename": "AttributeError",
          "evalue": "ignored",
          "traceback": [
            "\u001b[0;31m---------------------------------------------------------------------------\u001b[0m",
            "\u001b[0;31mAttributeError\u001b[0m                            Traceback (most recent call last)",
            "\u001b[0;32m<ipython-input-5-e284f5ee60b9>\u001b[0m in \u001b[0;36m<module>\u001b[0;34m()\u001b[0m\n\u001b[0;32m----> 1\u001b[0;31m \u001b[0msets\u001b[0m\u001b[0;34m.\u001b[0m\u001b[0mappend\u001b[0m\u001b[0;34m(\u001b[0m\u001b[0;34m\"ramu\"\u001b[0m\u001b[0;34m)\u001b[0m\u001b[0;34m\u001b[0m\u001b[0;34m\u001b[0m\u001b[0m\n\u001b[0m\u001b[1;32m      2\u001b[0m \u001b[0mprint\u001b[0m\u001b[0;34m(\u001b[0m\u001b[0msets\u001b[0m\u001b[0;34m)\u001b[0m\u001b[0;34m\u001b[0m\u001b[0;34m\u001b[0m\u001b[0m\n",
            "\u001b[0;31mAttributeError\u001b[0m: 'set' object has no attribute 'append'"
          ]
        }
      ]
    },
    {
      "cell_type": "code",
      "source": [
        "# add fucntion ek time pe ek hi element add karta hai\n",
        "\n",
        "sets.add(\"ramu\")\n",
        "print(sets)\n",
        "\n",
        "#update function ek time pe multiple elemnts ko add karta hai\n",
        "\n",
        "sets.update([\"kin\",5,\"hello\"])\n",
        "print(sets)"
      ],
      "metadata": {
        "colab": {
          "base_uri": "https://localhost:8080/"
        },
        "id": "jxssBM4bcUnp",
        "outputId": "0db9cd60-e020-4c24-971b-5c50e52eda68"
      },
      "execution_count": 6,
      "outputs": [
        {
          "output_type": "stream",
          "name": "stdout",
          "text": [
            "{68, 'nishu', 45, 'Apple', 'ramu'}\n",
            "{68, 5, 'nishu', 45, 'Apple', 'kin', 'hello', 'ramu'}\n"
          ]
        }
      ]
    },
    {
      "cell_type": "markdown",
      "source": [
        "## REMOVE Element\n",
        "\n",
        "\n",
        "we can remove elemnt using two funciton\n",
        "1.   remove()\n",
        "2.   discard()\n",
        "\n",
        "Main differnce bewteen both of them is that the discard() function leaves a set unchanged if the element is not present in the set. On the other hand, the remove() function will raise an error in such a condition (if element is not present in the set).\n",
        "\n"
      ],
      "metadata": {
        "id": "OkErF1MKK-aO"
      }
    },
    {
      "cell_type": "code",
      "source": [
        "# Difference between discard() and remove()\n",
        "\n",
        "# initialize my_set\n",
        "my_set = {1, 3, 4, 5, 6}\n",
        "print(my_set)\n",
        "\n",
        "# discard an element\n",
        "# Output: {1, 3, 5, 6}\n",
        "my_set.discard(4)\n",
        "print(my_set)\n",
        "\n",
        "# remove an element\n",
        "# Output: {1, 3, 5}\n",
        "my_set.remove(6)\n",
        "print(my_set)\n",
        "\n",
        "# discard an element\n",
        "# not present in my_set\n",
        "# Output: {1, 3, 5}\n",
        "my_set.discard(2)\n",
        "print(my_set)\n",
        "\n",
        "# remove an element\n",
        "# not present in my_set\n",
        "# you will get an error.\n",
        "# Output: KeyError\n",
        "\n",
        "my_set.remove(2)"
      ],
      "metadata": {
        "colab": {
          "base_uri": "https://localhost:8080/",
          "height": 269
        },
        "id": "JzfQER07LhF8",
        "outputId": "a481f76a-6b88-4e90-a49c-8b270221010a"
      },
      "execution_count": 7,
      "outputs": [
        {
          "output_type": "stream",
          "name": "stdout",
          "text": [
            "{1, 3, 4, 5, 6}\n",
            "{1, 3, 5, 6}\n",
            "{1, 3, 5}\n",
            "{1, 3, 5}\n"
          ]
        },
        {
          "output_type": "error",
          "ename": "KeyError",
          "evalue": "ignored",
          "traceback": [
            "\u001b[0;31m---------------------------------------------------------------------------\u001b[0m",
            "\u001b[0;31mKeyError\u001b[0m                                  Traceback (most recent call last)",
            "\u001b[0;32m<ipython-input-7-8cb8edd7dd9a>\u001b[0m in \u001b[0;36m<module>\u001b[0;34m()\u001b[0m\n\u001b[1;32m     26\u001b[0m \u001b[0;31m# Output: KeyError\u001b[0m\u001b[0;34m\u001b[0m\u001b[0;34m\u001b[0m\u001b[0;34m\u001b[0m\u001b[0m\n\u001b[1;32m     27\u001b[0m \u001b[0;34m\u001b[0m\u001b[0m\n\u001b[0;32m---> 28\u001b[0;31m \u001b[0mmy_set\u001b[0m\u001b[0;34m.\u001b[0m\u001b[0mremove\u001b[0m\u001b[0;34m(\u001b[0m\u001b[0;36m2\u001b[0m\u001b[0;34m)\u001b[0m\u001b[0;34m\u001b[0m\u001b[0;34m\u001b[0m\u001b[0m\n\u001b[0m",
            "\u001b[0;31mKeyError\u001b[0m: 2"
          ]
        }
      ]
    },
    {
      "cell_type": "markdown",
      "source": [
        "\n",
        "\n",
        "## Convert different type of iterables into set..\n",
        "#### using set() function\n",
        "1.list"
      ],
      "metadata": {
        "id": "q6JGyocJgV13"
      }
    },
    {
      "cell_type": "code",
      "source": [
        "list1=[\"ramu\",\"sham\",56,\"sona\",56.5]\n",
        "set1=set(list1)\n",
        "print(set1)\n",
        "print(type(list1))"
      ],
      "metadata": {
        "colab": {
          "base_uri": "https://localhost:8080/"
        },
        "id": "Nh2FpuYWgdgO",
        "outputId": "9ad91ffa-8fc3-41c0-cf85-9678a0dac6c0"
      },
      "execution_count": 8,
      "outputs": [
        {
          "output_type": "stream",
          "name": "stdout",
          "text": [
            "{56, 'sona', 'sham', 'ramu', 56.5}\n",
            "<class 'list'>\n"
          ]
        }
      ]
    },
    {
      "cell_type": "markdown",
      "source": [
        "2.tuple\n"
      ],
      "metadata": {
        "id": "J648tVkbvOYC"
      }
    },
    {
      "cell_type": "code",
      "source": [
        "tuples=(1,22,56,\"nishu\")\n",
        "set2=set(tuples)\n",
        "print(set2)\n"
      ],
      "metadata": {
        "id": "MtG55tPdgr0g",
        "colab": {
          "base_uri": "https://localhost:8080/"
        },
        "outputId": "670509c0-6782-4f3a-b11b-2ec014262cb7"
      },
      "execution_count": 9,
      "outputs": [
        {
          "output_type": "stream",
          "name": "stdout",
          "text": [
            "{56, 1, 22, 'nishu'}\n"
          ]
        }
      ]
    },
    {
      "cell_type": "markdown",
      "source": [
        "3.dictionary\n",
        "\n",
        "  i) yaad rakhna hai agar dict ko set() ke andar likhenge toh keys ko set m convert karega only\n",
        "  \n",
        "  ii) agar hume values ko set m likhna hai toh dict.values() likhna padhega set() ke andar"
      ],
      "metadata": {
        "id": "8I8r8vjxvmht"
      }
    },
    {
      "cell_type": "code",
      "source": [
        "dicts={\"nishu\":56,\"ramu\":98,\"sham\":\"hey\"}\n",
        "set3=set(dicts)\n",
        "print(set3)\n"
      ],
      "metadata": {
        "colab": {
          "base_uri": "https://localhost:8080/"
        },
        "id": "4wc5OWnOAwJV",
        "outputId": "60e0de0f-7536-43a9-b971-178e989accc5"
      },
      "execution_count": 10,
      "outputs": [
        {
          "output_type": "stream",
          "name": "stdout",
          "text": [
            "{'ramu', 'sham', 'nishu'}\n"
          ]
        }
      ]
    },
    {
      "cell_type": "code",
      "source": [
        "set4= set(dicts.values())\n",
        "print(set4)"
      ],
      "metadata": {
        "colab": {
          "base_uri": "https://localhost:8080/"
        },
        "id": "V27j1-cxCAej",
        "outputId": "f1ea66f9-c67d-479d-a8d9-8d20506c16a2"
      },
      "execution_count": 11,
      "outputs": [
        {
          "output_type": "stream",
          "name": "stdout",
          "text": [
            "{56, 98, 'hey'}\n"
          ]
        }
      ]
    },
    {
      "cell_type": "code",
      "source": [
        "set5=set(dicts.items())\n",
        "print(set5)"
      ],
      "metadata": {
        "colab": {
          "base_uri": "https://localhost:8080/"
        },
        "id": "T-eeh79w9qkj",
        "outputId": "fc1c5e72-0614-40a7-b280-27ecbdae26ac"
      },
      "execution_count": 12,
      "outputs": [
        {
          "output_type": "stream",
          "name": "stdout",
          "text": [
            "{('sham', 'hey'), ('nishu', 56), ('ramu', 98)}\n"
          ]
        }
      ]
    },
    {
      "cell_type": "markdown",
      "source": [
        "# Methods in set\n",
        "\n",
        "###1. union\n",
        "\n",
        "union karne ke liye **set_name1.union(set_name2)** or **set1|set2** m se kisi ek ka istemaal karte hai.. "
      ],
      "metadata": {
        "id": "7EYQh4yr_BKM"
      }
    },
    {
      "cell_type": "code",
      "source": [
        "print(set1)\n",
        "print(set2)"
      ],
      "metadata": {
        "colab": {
          "base_uri": "https://localhost:8080/"
        },
        "id": "Nh90TXV49xtB",
        "outputId": "5c268206-9168-4de1-f696-14351d6c2ea0"
      },
      "execution_count": 13,
      "outputs": [
        {
          "output_type": "stream",
          "name": "stdout",
          "text": [
            "{56, 'sona', 'sham', 'ramu', 56.5}\n",
            "{56, 1, 22, 'nishu'}\n"
          ]
        }
      ]
    },
    {
      "cell_type": "code",
      "source": [
        "# if we want union of set1 nd set2 \n",
        "set6= set1.union(set2)\n",
        "print(set6)\n",
        "\n",
        "# and we have another alternative also\n",
        "set7=set1|set2\n",
        "print(set7)\n",
        "\n",
        "we have both option"
      ],
      "metadata": {
        "colab": {
          "base_uri": "https://localhost:8080/",
          "height": 130
        },
        "id": "_UW7rJYs_q5B",
        "outputId": "ded43421-4740-4644-a6b8-0884faa1a8e2"
      },
      "execution_count": 14,
      "outputs": [
        {
          "output_type": "error",
          "ename": "SyntaxError",
          "evalue": "ignored",
          "traceback": [
            "\u001b[0;36m  File \u001b[0;32m\"<ipython-input-14-1e0b0f966369>\"\u001b[0;36m, line \u001b[0;32m9\u001b[0m\n\u001b[0;31m    we have both option\u001b[0m\n\u001b[0m          ^\u001b[0m\n\u001b[0;31mSyntaxError\u001b[0m\u001b[0;31m:\u001b[0m invalid syntax\n"
          ]
        }
      ]
    },
    {
      "cell_type": "markdown",
      "source": [
        "### 2. intersection\n",
        "\n",
        "agar apne ko intersection karna ho 2 set ka toh set1.**intersection(set2)** yaa **set1&set2** operator m se koi ek \n",
        "\n",
        "istemal kar sakte hai..\n",
        "\n"
      ],
      "metadata": {
        "id": "r4EYQ4-aAP8m"
      }
    },
    {
      "cell_type": "code",
      "source": [
        "set8=set1.intersection(set2)\n",
        "print(set8)\n",
        "set9= set1&set2\n",
        "print(set9)"
      ],
      "metadata": {
        "id": "sNmI4CpN_1oY"
      },
      "execution_count": null,
      "outputs": []
    },
    {
      "cell_type": "code",
      "source": [
        ""
      ],
      "metadata": {
        "id": "6BQwbyk1Bks_"
      },
      "execution_count": null,
      "outputs": []
    },
    {
      "cell_type": "markdown",
      "source": [
        "### note(important question):\n",
        "set m ordering se matlab nahi hota...\n",
        "elements se hota hai"
      ],
      "metadata": {
        "id": "Tz24STNXFm1u"
      }
    },
    {
      "cell_type": "code",
      "source": [
        "#Question1\n",
        "a={1,2,3,4,5,6}\n",
        "b={6,1,3,4,5,2}\n",
        "\n",
        "print(a==b)"
      ],
      "metadata": {
        "colab": {
          "base_uri": "https://localhost:8080/"
        },
        "id": "dzHEX0xpFq5N",
        "outputId": "31cd67bc-ca45-43e0-f124-1ec2868c2086"
      },
      "execution_count": 15,
      "outputs": [
        {
          "output_type": "stream",
          "name": "stdout",
          "text": [
            "True\n"
          ]
        }
      ]
    },
    {
      "cell_type": "code",
      "source": [
        "#Question 2\n",
        "x={1,True,(\"a\",\"b\",\"a\")}\n",
        "print(len(x))\n",
        "\n",
        "# In sets True is evaluated to 1. now x becomes {1,1,(\\\"a\\\",\\\"b\\\",\\\"a\\\")} after removing duplicates length of x is 2 \n",
        "\n"
      ],
      "metadata": {
        "colab": {
          "base_uri": "https://localhost:8080/"
        },
        "id": "OIKwx5s6Fusr",
        "outputId": "af924ed7-83cd-415c-c5dc-4369caf37083"
      },
      "execution_count": 16,
      "outputs": [
        {
          "output_type": "stream",
          "name": "stdout",
          "text": [
            "2\n"
          ]
        }
      ]
    },
    {
      "cell_type": "code",
      "source": [
        "print(x)"
      ],
      "metadata": {
        "colab": {
          "base_uri": "https://localhost:8080/"
        },
        "id": "dOttMbvuGZse",
        "outputId": "4c22cec8-d16c-4c75-87fa-fc5fb3c15de1"
      },
      "execution_count": 17,
      "outputs": [
        {
          "output_type": "stream",
          "name": "stdout",
          "text": [
            "{1, ('a', 'b', 'a')}\n"
          ]
        }
      ]
    },
    {
      "cell_type": "code",
      "source": [
        ""
      ],
      "metadata": {
        "id": "v8qHtyJTG148"
      },
      "execution_count": 17,
      "outputs": []
    }
  ]
}