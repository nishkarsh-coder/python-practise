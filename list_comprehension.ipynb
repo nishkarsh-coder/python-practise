{
  "nbformat": 4,
  "nbformat_minor": 0,
  "metadata": {
    "colab": {
      "name": "list comprehension.ipynb",
      "provenance": [],
      "authorship_tag": "ABX9TyP8uucIp9WwKJmJnNMT+o4y",
      "include_colab_link": true
    },
    "kernelspec": {
      "name": "python3",
      "display_name": "Python 3"
    },
    "language_info": {
      "name": "python"
    }
  },
  "cells": [
    {
      "cell_type": "markdown",
      "metadata": {
        "id": "view-in-github",
        "colab_type": "text"
      },
      "source": [
        "<a href=\"https://colab.research.google.com/github/nishkarsh-coder/python-practise/blob/main/list_comprehension.ipynb\" target=\"_parent\"><img src=\"https://colab.research.google.com/assets/colab-badge.svg\" alt=\"Open In Colab\"/></a>"
      ]
    },
    {
      "cell_type": "markdown",
      "source": [
        "# Example 1\n"
      ],
      "metadata": {
        "id": "L9ZBcPQEN4UJ"
      }
    },
    {
      "cell_type": "code",
      "execution_count": null,
      "metadata": {
        "colab": {
          "base_uri": "https://localhost:8080/"
        },
        "id": "vGVgbzPwHcjY",
        "outputId": "e58226ff-3548-426e-b738-34b188fb16e9"
      },
      "outputs": [
        {
          "output_type": "stream",
          "name": "stdout",
          "text": [
            "['elephant', 'giraffe', 'gorilla', 'dinausor', 'peacock']\n"
          ]
        }
      ],
      "source": [
        "animal=[\"cat\",'dog',\"elephant\",\"giraffe\",\"lion\",\"gorilla\",\"dinausor\",\"peacock\"]\n",
        "animal_list=[]\n",
        "for i in animal:\n",
        "  if len(i)>5:\n",
        "    animal_list.append(i)\n",
        "print(animal_list)"
      ]
    },
    {
      "cell_type": "markdown",
      "source": [
        "we can type aobve code in one line...\n"
      ],
      "metadata": {
        "id": "AiyShekNJnwH"
      }
    },
    {
      "cell_type": "code",
      "source": [
        "animal_list=[animal for animal in animal if len(animal)>3]\n",
        "print(animal_list)"
      ],
      "metadata": {
        "colab": {
          "base_uri": "https://localhost:8080/"
        },
        "id": "XFSezR4TJr6H",
        "outputId": "50b63645-e433-44a3-aa20-9d48caf4495b"
      },
      "execution_count": null,
      "outputs": [
        {
          "output_type": "stream",
          "name": "stdout",
          "text": [
            "['elephant', 'giraffe', 'lion', 'gorilla', 'dinausor', 'peacock']\n"
          ]
        }
      ]
    },
    {
      "cell_type": "markdown",
      "source": [
        "# Example2"
      ],
      "metadata": {
        "id": "VhtXEPH9NuQO"
      }
    },
    {
      "cell_type": "code",
      "source": [
        "\n",
        "\n",
        "colors={\"cat\":\"gray\",'dog':\"black\",\"elephant\":\"gray\",\"giraffe\":\"yellow\",\"lion\":\"brown\",\"gorilla\":\"gray\",\"dinausor\":\"green\",\"peacock\":\"blue\"}\n",
        "color_list=[]\n",
        "for k,v in colors.items():\n",
        "  if v==\"gray\":\n",
        "    color_list.append(k)\n",
        "\n",
        "print(color_list)"
      ],
      "metadata": {
        "colab": {
          "base_uri": "https://localhost:8080/"
        },
        "id": "6Hnw8ONBJ7P7",
        "outputId": "b10b7082-db23-44f3-b72b-90391723a94f"
      },
      "execution_count": null,
      "outputs": [
        {
          "output_type": "stream",
          "name": "stdout",
          "text": [
            "['cat', 'elephant', 'gorilla']\n"
          ]
        }
      ]
    },
    {
      "cell_type": "markdown",
      "source": [
        "we can type above adn code in one line..\n"
      ],
      "metadata": {
        "id": "pcRzWukNMnc_"
      }
    },
    {
      "cell_type": "code",
      "source": [
        "color_list=[k for k,v in colors.items() if v==\"gray\"]\n",
        "color_list"
      ],
      "metadata": {
        "colab": {
          "base_uri": "https://localhost:8080/"
        },
        "id": "px0HlZMwMrWm",
        "outputId": "882b1981-6fb6-4f02-bfc0-a7c95d0edc48"
      },
      "execution_count": null,
      "outputs": [
        {
          "output_type": "execute_result",
          "data": {
            "text/plain": [
              "['cat', 'elephant', 'gorilla']"
            ]
          },
          "metadata": {},
          "execution_count": 9
        }
      ]
    },
    {
      "cell_type": "markdown",
      "source": [
        "# Example 3"
      ],
      "metadata": {
        "id": "DYgsUXdQOPhN"
      }
    },
    {
      "cell_type": "code",
      "source": [
        "# Example 3\n",
        "\n",
        "names=[\"ram\",\"sham\",\"nishu\",\"kevin\",\"laxman\",\"sonia\"]\n",
        "name= input()\n",
        "if name in names:\n",
        "  print(\"yes\")\n",
        "else:\n",
        "  print(\"no\")"
      ],
      "metadata": {
        "colab": {
          "base_uri": "https://localhost:8080/"
        },
        "id": "WcB06sVhM558",
        "outputId": "1b186b20-ccf4-4623-a738-4e48c3aff90f"
      },
      "execution_count": null,
      "outputs": [
        {
          "output_type": "stream",
          "name": "stdout",
          "text": [
            "kevin\n",
            "yes\n"
          ]
        }
      ]
    },
    {
      "cell_type": "markdown",
      "source": [
        "we can type above code in one line.."
      ],
      "metadata": {
        "id": "IQwpnx7bOW0d"
      }
    },
    {
      "cell_type": "code",
      "source": [
        "print(\"yes\") if input() in names else print(\"No\")"
      ],
      "metadata": {
        "colab": {
          "base_uri": "https://localhost:8080/"
        },
        "id": "Ii6uIgp4NcNk",
        "outputId": "0300318a-a5d0-455e-888d-e4988002c5ed"
      },
      "execution_count": null,
      "outputs": [
        {
          "output_type": "stream",
          "name": "stdout",
          "text": [
            "ram\n",
            "yes\n"
          ]
        }
      ]
    },
    {
      "cell_type": "markdown",
      "source": [
        "# Example 4"
      ],
      "metadata": {
        "id": "aQs_oad6Oo_i"
      }
    },
    {
      "cell_type": "code",
      "source": [
        "nums =[2,5,6,8,16,87]\n",
        "new_num=[]\n",
        "def num(nlist):\n",
        "  for i in nlist:\n",
        "    new_num.append(i**2+5)\n",
        "  return new_num\n",
        "print(num(nums))\n",
        "  "
      ],
      "metadata": {
        "colab": {
          "base_uri": "https://localhost:8080/"
        },
        "id": "3kZoqQHLOlA4",
        "outputId": "863fda6d-d6f2-4fda-912b-2cced76c266e"
      },
      "execution_count": null,
      "outputs": [
        {
          "output_type": "stream",
          "name": "stdout",
          "text": [
            "[9, 30, 41, 69, 261, 7574]\n"
          ]
        }
      ]
    },
    {
      "cell_type": "markdown",
      "source": [
        "we can type above code in one line.."
      ],
      "metadata": {
        "id": "7fMdJcNpQK5v"
      }
    },
    {
      "cell_type": "code",
      "source": [
        "print(list(map(lambda x: x**2+5,nums)))      #best optimize way..."
      ],
      "metadata": {
        "colab": {
          "base_uri": "https://localhost:8080/"
        },
        "id": "yWibV194QNNs",
        "outputId": "6b40746c-8779-4acc-ed88-4c472a3d87b7"
      },
      "execution_count": null,
      "outputs": [
        {
          "output_type": "stream",
          "name": "stdout",
          "text": [
            "[9, 30, 41, 69, 261, 7574]\n"
          ]
        }
      ]
    },
    {
      "cell_type": "markdown",
      "source": [
        "# Example 5"
      ],
      "metadata": {
        "id": "pRB4sk_JQgYM"
      }
    },
    {
      "cell_type": "code",
      "source": [
        "#this program is telling us word is palindrome or not..\n",
        "\n",
        "phrase= input()\n",
        "\n",
        "new_phrase=phrase.replace(\" \",\"\").lower()\n",
        "\n",
        "print(new_phrase)"
      ],
      "metadata": {
        "colab": {
          "base_uri": "https://localhost:8080/"
        },
        "id": "cO64tDYzQkDZ",
        "outputId": "521ffe8e-297a-4ae9-defa-24055a362d66"
      },
      "execution_count": null,
      "outputs": [
        {
          "output_type": "stream",
          "name": "stdout",
          "text": [
            "Nish KaR s  h aggAr wa l\n",
            "nishkarshaggarwal\n"
          ]
        }
      ]
    },
    {
      "cell_type": "code",
      "source": [
        "phrase= input()\n",
        "\n",
        "phrase=phrase.replace(\" \",\"\").lower()\n",
        "new_phrase=[]\n",
        "count= len(phrase)-1\n",
        "while count>-1:\n",
        "  new_phrase.append(phrase[count])\n",
        "  count-=1\n",
        "\n",
        "if \"\".join(new_phrase)==phrase:\n",
        "  print(\"palindrome\")\n",
        "else:\n",
        "  print(\"not a palindrome\")"
      ],
      "metadata": {
        "colab": {
          "base_uri": "https://localhost:8080/"
        },
        "id": "cT08Id1fRoPG",
        "outputId": "a0f97cdf-0d08-4ae3-9511-7351581c8d74"
      },
      "execution_count": null,
      "outputs": [
        {
          "output_type": "stream",
          "name": "stdout",
          "text": [
            "A n NA\n",
            "palindrome\n"
          ]
        }
      ]
    },
    {
      "cell_type": "markdown",
      "source": [
        "we can type above code in one line.."
      ],
      "metadata": {
        "id": "cQlgtZMRS49A"
      }
    },
    {
      "cell_type": "code",
      "source": [
        "phrase = input().replace(\" \",\"\").lower()\n",
        "\n",
        "print(\"yes\") if phrase==phrase[::-1] else print(\"no\")"
      ],
      "metadata": {
        "colab": {
          "base_uri": "https://localhost:8080/"
        },
        "id": "I4ql2z1mSmJp",
        "outputId": "c55dae29-553a-4baf-ad59-8fa42801e367"
      },
      "execution_count": null,
      "outputs": [
        {
          "output_type": "stream",
          "name": "stdout",
          "text": [
            "anna\n",
            "yes\n"
          ]
        }
      ]
    },
    {
      "cell_type": "markdown",
      "source": [
        "# Some eexample\n"
      ],
      "metadata": {
        "id": "RmtOWQp7X_xw"
      }
    },
    {
      "cell_type": "code",
      "source": [
        "print(int(i) for i in range(10))"
      ],
      "metadata": {
        "colab": {
          "base_uri": "https://localhost:8080/"
        },
        "id": "V3MH2J09TI-F",
        "outputId": "6fae99c3-55dd-42ca-9a60-730c23ef4acd"
      },
      "execution_count": null,
      "outputs": [
        {
          "output_type": "stream",
          "name": "stdout",
          "text": [
            "<generator object <genexpr> at 0x7f3bdafe9c50>\n"
          ]
        }
      ]
    },
    {
      "cell_type": "code",
      "source": [
        "print( \"yes \" if 2==3 else \"No\" )"
      ],
      "metadata": {
        "colab": {
          "base_uri": "https://localhost:8080/"
        },
        "id": "p6SPs3DzTNV4",
        "outputId": "f76d2e05-459e-42a6-ece7-fcff224b9bef"
      },
      "execution_count": null,
      "outputs": [
        {
          "output_type": "stream",
          "name": "stdout",
          "text": [
            "No\n"
          ]
        }
      ]
    },
    {
      "cell_type": "markdown",
      "source": [
        "# Example 6\n"
      ],
      "metadata": {
        "id": "TeIUJCiTYHOJ"
      }
    },
    {
      "cell_type": "code",
      "source": [
        "for i in range(10):\n",
        "  if i>5:\n",
        "    print(i**2)\n",
        "  else:\n",
        "    print(0)\n"
      ],
      "metadata": {
        "colab": {
          "base_uri": "https://localhost:8080/"
        },
        "id": "KVRx3mmvTiBA",
        "outputId": "d2bb5245-8831-4bbb-c911-9e83b4bee514"
      },
      "execution_count": null,
      "outputs": [
        {
          "output_type": "stream",
          "name": "stdout",
          "text": [
            "0\n",
            "0\n",
            "0\n",
            "0\n",
            "0\n",
            "0\n",
            "36\n",
            "49\n",
            "64\n",
            "81\n"
          ]
        }
      ]
    },
    {
      "cell_type": "markdown",
      "source": [
        "one line code....\n"
      ],
      "metadata": {
        "id": "cs1LE1ueYoyQ"
      }
    },
    {
      "cell_type": "code",
      "source": [
        "for i in range(10): print(i**2 if i>5 else 0)"
      ],
      "metadata": {
        "colab": {
          "base_uri": "https://localhost:8080/"
        },
        "id": "gDOnnvhaYb44",
        "outputId": "1d23ef4f-c9c9-4f36-a48b-15377fe072fd"
      },
      "execution_count": null,
      "outputs": [
        {
          "output_type": "stream",
          "name": "stdout",
          "text": [
            "0\n",
            "0\n",
            "0\n",
            "0\n",
            "0\n",
            "0\n",
            "36\n",
            "49\n",
            "64\n",
            "81\n"
          ]
        }
      ]
    },
    {
      "cell_type": "markdown",
      "source": [
        "#Example 6"
      ],
      "metadata": {
        "id": "Bec3-1fYCQTj"
      }
    },
    {
      "cell_type": "code",
      "source": [
        "import numpy as np\n",
        "lst=[]\n",
        "for i in range(6):\n",
        "  for j in range(6):\n",
        "    lst.append(np.random.randint(-9,9))\n",
        "\n",
        "arr=np.array(lst).reshape(6,6)\n",
        "arr"
      ],
      "metadata": {
        "id": "EnKD0cf0Ymoc",
        "colab": {
          "base_uri": "https://localhost:8080/"
        },
        "outputId": "53d1daed-91b1-4c81-891a-707eded6d9c6"
      },
      "execution_count": 7,
      "outputs": [
        {
          "output_type": "execute_result",
          "data": {
            "text/plain": [
              "array([[-6, -4, -9,  5,  4, -7],\n",
              "       [-5,  8,  2, -3, -1, -4],\n",
              "       [ 1, -1, -8, -3, -9, -8],\n",
              "       [-4,  8, -9,  8, -4, -4],\n",
              "       [-2,  3, -8, -4,  2, -3],\n",
              "       [ 1, -8, -8, -5,  8, -3]])"
            ]
          },
          "metadata": {},
          "execution_count": 7
        }
      ]
    },
    {
      "cell_type": "code",
      "source": [
        "# lst\n",
        "# len(lst)"
      ],
      "metadata": {
        "colab": {
          "base_uri": "https://localhost:8080/"
        },
        "id": "btMRI1SlC4C-",
        "outputId": "19bfc0e0-fca3-4868-96e6-b8d1fff10b8a"
      },
      "execution_count": 5,
      "outputs": [
        {
          "output_type": "execute_result",
          "data": {
            "text/plain": [
              "36"
            ]
          },
          "metadata": {},
          "execution_count": 5
        }
      ]
    },
    {
      "cell_type": "markdown",
      "source": [
        "Alternative method and best way to doing this question"
      ],
      "metadata": {
        "id": "ekkZ0HcpDZ7c"
      }
    },
    {
      "cell_type": "code",
      "source": [
        "np.array([[np.random.randint(-9,9) for i in range(6)] for j in range(6)])"
      ],
      "metadata": {
        "colab": {
          "base_uri": "https://localhost:8080/"
        },
        "id": "RNpayLC5C7oh",
        "outputId": "72f0b6e0-fbe3-44e5-f268-f64f5bc8ec9b"
      },
      "execution_count": 9,
      "outputs": [
        {
          "output_type": "execute_result",
          "data": {
            "text/plain": [
              "array([[-2,  2, -8, -7,  8,  7],\n",
              "       [-4, -1, -7, -3,  7,  1],\n",
              "       [ 6, -3,  3, -4, -3,  4],\n",
              "       [ 3,  4,  8,  5,  2,  8],\n",
              "       [-9, -1, -8, -8, -9, -1],\n",
              "       [-6, -4,  8,  7,  0, -7]])"
            ]
          },
          "metadata": {},
          "execution_count": 9
        }
      ]
    },
    {
      "cell_type": "code",
      "source": [
        ""
      ],
      "metadata": {
        "id": "GiHtu8y7EHM7"
      },
      "execution_count": 21,
      "outputs": []
    },
    {
      "cell_type": "code",
      "source": [
        ""
      ],
      "metadata": {
        "id": "CiCqHYTLGclT"
      },
      "execution_count": 21,
      "outputs": []
    },
    {
      "cell_type": "code",
      "source": [
        ""
      ],
      "metadata": {
        "id": "HD36bQqGLEhC"
      },
      "execution_count": null,
      "outputs": []
    }
  ]
}