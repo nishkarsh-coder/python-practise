{
  "cells": [
    {
      "cell_type": "markdown",
      "metadata": {
        "id": "view-in-github",
        "colab_type": "text"
      },
      "source": [
        "<a href=\"https://colab.research.google.com/github/nishkarsh-coder/python-practise/blob/main/dictionary.ipynb\" target=\"_parent\"><img src=\"https://colab.research.google.com/assets/colab-badge.svg\" alt=\"Open In Colab\"/></a>"
      ]
    },
    {
      "cell_type": "markdown",
      "metadata": {
        "id": "SlvGp-FtJK4j"
      },
      "source": [
        "#Dictionary..\n",
        "\n",
        "Dictionaries are used to store data values in key:value pairs.\n",
        "\n",
        "A dictionary is a collection which is ordered*, changeable and do not allow duplicates.\n",
        "\n",
        "Dictionaries are written with curly brackets, and have keys and values.\n",
        "\n",
        "**(*As of Python version 3.7, dictionaries are ordered. In Python 3.6 and earlier, dictionaries are unordered.)**"
      ]
    },
    {
      "cell_type": "markdown",
      "metadata": {
        "id": "FdP5lWebP7kh"
      },
      "source": [
        "##The values in dictionary items can be of any data type:\n",
        "String, int, boolean,tuple and list data types:"
      ]
    },
    {
      "cell_type": "code",
      "execution_count": null,
      "metadata": {
        "colab": {
          "base_uri": "https://localhost:8080/"
        },
        "id": "oZJRRXXjJIIf",
        "outputId": "2d93894d-9565-4da5-d059-73848ce36fc3"
      },
      "outputs": [
        {
          "name": "stdout",
          "output_type": "stream",
          "text": [
            "{'ram': 15, 'sham': 98, 'nishu': 'hello', 'B': [1, 2, 3], 'num': (1, 2, 3)}\n"
          ]
        }
      ],
      "source": [
        "dict1={\"ram\":15,\"sham\":98,\"nishu\":\"hello\",'B':[1,2,3],\"num\":(1,2,3)}\n",
        "print(dict1)"
      ]
    },
    {
      "cell_type": "code",
      "execution_count": null,
      "metadata": {
        "colab": {
          "base_uri": "https://localhost:8080/"
        },
        "id": "q33fogP3XSI8",
        "outputId": "4839a9bd-955b-4ea9-bd9a-e6aa821e5ef1"
      },
      "outputs": [
        {
          "name": "stdout",
          "output_type": "stream",
          "text": [
            "<class 'dict'>\n"
          ]
        }
      ],
      "source": [
        "print(type(dict1))"
      ]
    },
    {
      "cell_type": "markdown",
      "metadata": {
        "id": "Dj1JCtbJQoLk"
      },
      "source": [
        "#Ordered or Unordered?\n",
        "\n",
        "When we say that dictionaries are ordered, it means that the items have a defined order, and that order will not change.\n",
        "\n",
        "Unordered means that the items does not have a defined order, you cannot refer to an item by using an index.\n",
        "\n",
        "#Duplicates Not Allowed\n",
        "Dictionaries cannot have two items with the same key\n",
        "\n",
        "duplicates values are allowed but duplicate keys are not allowed..."
      ]
    },
    {
      "cell_type": "code",
      "execution_count": null,
      "metadata": {
        "colab": {
          "base_uri": "https://localhost:8080/"
        },
        "id": "iJdn5pLzQFpD",
        "outputId": "8b37e0fc-a2bc-4246-dd48-00ff13a579cb"
      },
      "outputs": [
        {
          "name": "stdout",
          "output_type": "stream",
          "text": [
            "{'brand': 'Ford', 'model': 'Mustang', 'year': 2020, 'price': 2020}\n"
          ]
        }
      ],
      "source": [
        "thisdict = {\n",
        "  \"brand\": \"Ford\",\n",
        "  \"model\": \"Mustang\",\n",
        "  \"year\": 1964,\n",
        "  \"year\": 2020,\n",
        "  \"price\": 2020\n",
        "}\n",
        "print(thisdict) #it ignores duplicate key... and the last value of duplicate key matters."
      ]
    },
    {
      "cell_type": "markdown",
      "metadata": {
        "id": "ppqsPKz2XeyH"
      },
      "source": [
        "#Accessing Elements from Dictionary\n",
        "While indexing is used with other data types to **access values**, a dictionary uses keys. Keys can be used either inside **square brackets [ ]** or with the **get() method**.\n",
        "\n",
        "**Important**:If we use the square brackets [ ], KeyError is raised in case a key is not found in the dictionary. On the other hand, the get() method returns None if the key is not found."
      ]
    },
    {
      "cell_type": "code",
      "execution_count": null,
      "metadata": {
        "colab": {
          "base_uri": "https://localhost:8080/",
          "height": 269
        },
        "id": "zkk9c7wcRCqx",
        "outputId": "707a3877-6193-480c-e776-4caf48352d41"
      },
      "outputs": [
        {
          "name": "stdout",
          "output_type": "stream",
          "text": [
            "Jack\n",
            "26\n",
            "None\n",
            "Class is not in dictionary\n"
          ]
        },
        {
          "ename": "KeyError",
          "evalue": "ignored",
          "output_type": "error",
          "traceback": [
            "\u001b[0;31m---------------------------------------------------------------------------\u001b[0m",
            "\u001b[0;31mKeyError\u001b[0m                                  Traceback (most recent call last)",
            "\u001b[0;32m<ipython-input-29-529b9590f2e5>\u001b[0m in \u001b[0;36m<module>\u001b[0;34m()\u001b[0m\n\u001b[1;32m     19\u001b[0m \u001b[0;34m\u001b[0m\u001b[0m\n\u001b[1;32m     20\u001b[0m \u001b[0;31m# KeyError\u001b[0m\u001b[0;34m\u001b[0m\u001b[0;34m\u001b[0m\u001b[0;34m\u001b[0m\u001b[0m\n\u001b[0;32m---> 21\u001b[0;31m \u001b[0mprint\u001b[0m\u001b[0;34m(\u001b[0m\u001b[0mmy_dict\u001b[0m\u001b[0;34m[\u001b[0m\u001b[0;34m'address'\u001b[0m\u001b[0;34m]\u001b[0m\u001b[0;34m)\u001b[0m\u001b[0;34m\u001b[0m\u001b[0;34m\u001b[0m\u001b[0m\n\u001b[0m",
            "\u001b[0;31mKeyError\u001b[0m: 'address'"
          ]
        }
      ],
      "source": [
        "# get vs [] for retrieving elements\n",
        "my_dict = {'name': 'Jack', 'age': 26}\n",
        "\n",
        "# Output: Jack\n",
        "print(my_dict['name'])\n",
        "\n",
        "# Output: 26\n",
        "print(my_dict.get('age'))\n",
        "\n",
        "# Trying to access keys which doesn't exist throws error\n",
        "# Output None\n",
        "print(my_dict.get('address'))\n",
        "\n",
        "# Dict.get(key, default)\n",
        "# Return the value for key if key is in the dictionary, else default.\n",
        "\n",
        "print(my_dict.get(\"class\",\"Class is not in dictionary\"))\n",
        "\n",
        "\n",
        "# KeyError\n",
        "print(my_dict['address'])\n"
      ]
    },
    {
      "cell_type": "markdown",
      "metadata": {
        "id": "3uD0u2zbbQ-G"
      },
      "source": [
        "##Accessing an element of a nested dictionary\n",
        "In order to access the value of any key in the nested dictionary, use indexing [] syntax."
      ]
    },
    {
      "cell_type": "code",
      "execution_count": null,
      "metadata": {
        "colab": {
          "base_uri": "https://localhost:8080/"
        },
        "id": "zItzb6ZybVE3",
        "outputId": "0a19a445-8b4d-4cf5-ce71-79ca6804ae8f"
      },
      "outputs": [
        {
          "name": "stdout",
          "output_type": "stream",
          "text": [
            "{1: 'Geeks'}\n",
            "Geeks\n",
            "For\n",
            "{'Name': 'For'}\n"
          ]
        }
      ],
      "source": [
        "Dict = {'Dict1': {1: 'Geeks'},\n",
        "        'Dict2': {'Name': 'For'}}\n",
        " \n",
        "# Accessing element using key\n",
        "print(Dict['Dict1'])\n",
        "print(Dict['Dict1'][1])\n",
        "print(Dict['Dict2']['Name'])\n",
        "\n",
        "\n",
        "\n",
        "print(Dict.get(\"Dict2\"))"
      ]
    },
    {
      "cell_type": "markdown",
      "metadata": {
        "id": "sCltj8IqZ01B"
      },
      "source": [
        "#Changing and Adding Dictionary elements\n",
        "Dictionaries are mutable(iski values change kar sakte hai). We can add new items or change the value of existing items using an assignment operator.\n",
        "\n",
        "If the key is already present, then the existing value gets updated. In case the key is not present, a new (key: value) pair is added to the dictionary."
      ]
    },
    {
      "cell_type": "code",
      "execution_count": null,
      "metadata": {
        "colab": {
          "base_uri": "https://localhost:8080/"
        },
        "id": "HFOGD2_RaH7z",
        "outputId": "8617e49d-545d-4748-caf4-bc2fd6c99754"
      },
      "outputs": [
        {
          "name": "stdout",
          "output_type": "stream",
          "text": [
            "{'name': 'Jack', 'age': 27}\n",
            "{'name': 'Jack', 'age': 27, 'address': 'Downtown'}\n",
            "\n",
            "Dictionary after adding 3 elements: \n",
            "{'name': 'Jack', 'age': 27, 'address': 'Downtown', 'Value_set': (2, 3, 4)}\n"
          ]
        }
      ],
      "source": [
        "# Changing and adding Dictionary Elements\n",
        "my_dict = {'name': 'Jack', 'age': 26}\n",
        "\n",
        "# update value\n",
        "my_dict['age'] = 27\n",
        "\n",
        "#Output: {'age': 27, 'name': 'Jack'}\n",
        "print(my_dict)\n",
        "\n",
        "# add item\n",
        "my_dict['address'] = 'Downtown'\n",
        "\n",
        "# Output: {'address': 'Downtown', 'age': 27, 'name': 'Jack'}\n",
        "\n",
        "print(my_dict)\n",
        "\n",
        "my_dict['Value_set'] = 2, 3, 4\n",
        "print(\"\\nDictionary after adding 3 elements: \")\n",
        "# Output: {'address': 'Downtown', 'age': 27, 'name': 'Jack', 'Value_set': (2, 3, 4)}\n",
        "print(my_dict)"
      ]
    },
    {
      "cell_type": "markdown",
      "metadata": {
        "id": "O_2nYlB2c57P"
      },
      "source": [
        "#Removing elements from Dictionary\n",
        "## **1.pop()**\n",
        "\n",
        "We can remove a particular item in a dictionary by using the **pop()** method.\n",
        "This method ***removes an item with the provided key and returns the value.***\n",
        "\n",
        "**NOTE**: Pop() method is used to ***return the value***"
      ]
    },
    {
      "cell_type": "code",
      "execution_count": null,
      "metadata": {
        "colab": {
          "base_uri": "https://localhost:8080/"
        },
        "id": "PVvF918DaIav",
        "outputId": "1cadd59f-3e9c-45f7-e976-9efdaa16deae"
      },
      "outputs": [
        {
          "name": "stdout",
          "output_type": "stream",
          "text": [
            "16\n",
            "{1: 1, 2: 4, 3: 9, 5: 25}\n"
          ]
        }
      ],
      "source": [
        "squares = {1: 1, 2: 4, 3: 9, 4: 16, 5: 25}\n",
        "\n",
        "# remove a particular item, returns its value\n",
        "# Output: 16\n",
        "print(squares.pop(4))\n",
        "\n",
        "# Output: {1: 1, 2: 4, 3: 9, 5: 25}\n",
        "print(squares)"
      ]
    },
    {
      "cell_type": "markdown",
      "metadata": {
        "id": "zQAnUL5ZeN6N"
      },
      "source": [
        "## **2.popitem()**\n",
        "\n",
        "The **popitem()** method can be used to ***remove and return an arbitrary (key, value) item pair from the dictionary.***\n",
        "\n",
        "**Returns** : A tuple containing the arbitrary key-value pair from dictionary. That pair is removed from dictionary."
      ]
    },
    {
      "cell_type": "code",
      "execution_count": null,
      "metadata": {
        "colab": {
          "base_uri": "https://localhost:8080/"
        },
        "id": "gfNKhABjd60z",
        "outputId": "4f497585-0051-401a-f6aa-767ede6d1889"
      },
      "outputs": [
        {
          "name": "stdout",
          "output_type": "stream",
          "text": [
            "The dictionary before deletion : {'Nikhil': 7, 'Akshat': 1, 'Akash': 2}\n",
            "The arbitrary pair returned is : ('Akash', 2)\n",
            "The dictionary after removal : {'Nikhil': 7, 'Akshat': 1}\n"
          ]
        }
      ],
      "source": [
        "test_dict = {\"Nikhil\": 7, \"Akshat\": 1, \"Akash\": 2}\n",
        " \n",
        "# Printing initial dict\n",
        "print(\"The dictionary before deletion : \" + str(test_dict))\n",
        " \n",
        "# using popitem() to return + remove arbitrary\n",
        "# pair\n",
        "res = test_dict.popitem()\n",
        " \n",
        "# Printing the pair returned\n",
        "print('The arbitrary pair returned is : ' + str(res))\n",
        " \n",
        "# Printing dict after deletion\n",
        "print(\"The dictionary after removal : \" + str(test_dict))\n"
      ]
    },
    {
      "cell_type": "markdown",
      "metadata": {
        "id": "RLZYl6jceXD7"
      },
      "source": [
        "###**3.clear()**\n",
        "\n",
        "***All the items can be removed at once***, using the **clear()** method.\n",
        "\n",
        "##**4.del()**\n",
        "\n",
        "We can also use the **del** keyword to **remove individual items or the entire dictionary itself.**"
      ]
    },
    {
      "cell_type": "code",
      "execution_count": null,
      "metadata": {
        "colab": {
          "base_uri": "https://localhost:8080/"
        },
        "id": "hycRMBtPc2DH",
        "outputId": "ba397263-39d9-4a6b-a68a-410f880716e2"
      },
      "outputs": [
        {
          "name": "stdout",
          "output_type": "stream",
          "text": [
            "\n",
            "Deleting Entire Dictionary: \n",
            "{}\n"
          ]
        }
      ],
      "source": [
        "Dict = {1: 'Geeks', 'name': 'For', 3: 'Geeks'}\n",
        " \n",
        " \n",
        "# Deleting entire Dictionary\n",
        "Dict.clear()\n",
        "print(\"\\nDeleting Entire Dictionary: \")\n",
        "print(Dict)"
      ]
    },
    {
      "cell_type": "code",
      "execution_count": 58,
      "metadata": {
        "id": "ztfoX80IkX7l"
      },
      "outputs": [],
      "source": [
        ""
      ]
    }
  ],
  "metadata": {
    "colab": {
      "name": "dictionary.ipynb",
      "provenance": [],
      "authorship_tag": "ABX9TyNDmeEmi7x9k9Nqiw5vdJeU",
      "include_colab_link": true
    },
    "kernelspec": {
      "display_name": "Python 3",
      "name": "python3"
    },
    "language_info": {
      "name": "python"
    }
  },
  "nbformat": 4,
  "nbformat_minor": 0
}