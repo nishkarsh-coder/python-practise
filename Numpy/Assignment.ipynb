{
  "nbformat": 4,
  "nbformat_minor": 0,
  "metadata": {
    "colab": {
      "name": "numpy_excercise0_SOLUTIONS.ipynb",
      "provenance": [],
      "collapsed_sections": [],
      "include_colab_link": true
    },
    "kernelspec": {
      "name": "python3",
      "display_name": "Python 3"
    },
    "language_info": {
      "name": "python"
    }
  },
  "cells": [
    {
      "cell_type": "markdown",
      "metadata": {
        "id": "view-in-github",
        "colab_type": "text"
      },
      "source": [
        "<a href=\"https://colab.research.google.com/github/nishkarsh-coder/python-practise/blob/main/Numpy/Assignment.ipynb\" target=\"_parent\"><img src=\"https://colab.research.google.com/assets/colab-badge.svg\" alt=\"Open In Colab\"/></a>"
      ]
    },
    {
      "cell_type": "markdown",
      "metadata": {
        "id": "gX8SgQjYg9Pv"
      },
      "source": [
        "**Import numpy as np**"
      ]
    },
    {
      "cell_type": "code",
      "metadata": {
        "id": "jv3Xo5nXg3tA"
      },
      "source": [
        "import numpy as np"
      ],
      "execution_count": 1,
      "outputs": []
    },
    {
      "cell_type": "markdown",
      "metadata": {
        "id": "oTfF2hlPhCmF"
      },
      "source": [
        "**Create an array of 10 zeros**"
      ]
    },
    {
      "cell_type": "code",
      "source": [
        "arr=np.zeros(10)"
      ],
      "metadata": {
        "id": "O8skHcZRXMx1"
      },
      "execution_count": 4,
      "outputs": []
    },
    {
      "cell_type": "code",
      "metadata": {
        "colab": {
          "base_uri": "https://localhost:8080/"
        },
        "id": "wIwsJrYchFsj",
        "outputId": "b199e480-a9fb-484a-e5cf-3e6485bcb8a6"
      },
      "source": [
        "arr"
      ],
      "execution_count": 5,
      "outputs": [
        {
          "output_type": "execute_result",
          "data": {
            "text/plain": [
              "array([0., 0., 0., 0., 0., 0., 0., 0., 0., 0.])"
            ]
          },
          "metadata": {},
          "execution_count": 5
        }
      ]
    },
    {
      "cell_type": "markdown",
      "metadata": {
        "id": "vcIl9pJ8hGAM"
      },
      "source": [
        "**Create an array of 10 ones**"
      ]
    },
    {
      "cell_type": "code",
      "source": [
        "arr=np.ones(10)"
      ],
      "metadata": {
        "id": "6PrKN5xUXNzz"
      },
      "execution_count": 6,
      "outputs": []
    },
    {
      "cell_type": "code",
      "metadata": {
        "colab": {
          "base_uri": "https://localhost:8080/"
        },
        "id": "FNBOoy7YhJDz",
        "outputId": "aa61c4dd-f706-4d6f-97b4-7c4b0c714974"
      },
      "source": [
        "arr"
      ],
      "execution_count": 7,
      "outputs": [
        {
          "output_type": "execute_result",
          "data": {
            "text/plain": [
              "array([1., 1., 1., 1., 1., 1., 1., 1., 1., 1.])"
            ]
          },
          "metadata": {},
          "execution_count": 7
        }
      ]
    },
    {
      "cell_type": "markdown",
      "metadata": {
        "id": "iGTVWS-xhJR_"
      },
      "source": [
        "**Create an array of 10 fives**"
      ]
    },
    {
      "cell_type": "code",
      "source": [
        "arr= np.ones(10)*5"
      ],
      "metadata": {
        "id": "bHn2OEkOXO91"
      },
      "execution_count": 64,
      "outputs": []
    },
    {
      "cell_type": "code",
      "metadata": {
        "colab": {
          "base_uri": "https://localhost:8080/"
        },
        "id": "bioPQimlhMaF",
        "outputId": "608dc543-ea5e-408a-de76-592c283939e4"
      },
      "source": [
        "arr"
      ],
      "execution_count": 65,
      "outputs": [
        {
          "output_type": "execute_result",
          "data": {
            "text/plain": [
              "array([5., 5., 5., 5., 5., 5., 5., 5., 5., 5.])"
            ]
          },
          "metadata": {},
          "execution_count": 65
        }
      ]
    },
    {
      "cell_type": "markdown",
      "metadata": {
        "id": "DhZUq38whgCu"
      },
      "source": [
        "**Create an array of the integers from 10 to 50**\n",
        "\n",
        "New "
      ]
    },
    {
      "cell_type": "code",
      "source": [
        "arr= np.arange(10,51)"
      ],
      "metadata": {
        "id": "eYZRS_7FXoAe"
      },
      "execution_count": 66,
      "outputs": []
    },
    {
      "cell_type": "code",
      "metadata": {
        "colab": {
          "base_uri": "https://localhost:8080/"
        },
        "id": "j_u7EixahfS-",
        "outputId": "735dd331-1d01-4561-f51e-65562aff0dd6"
      },
      "source": [
        "arr"
      ],
      "execution_count": 14,
      "outputs": [
        {
          "output_type": "execute_result",
          "data": {
            "text/plain": [
              "array([10, 11, 12, 13, 14, 15, 16, 17, 18, 19, 20, 21, 22, 23, 24, 25, 26,\n",
              "       27, 28, 29, 30, 31, 32, 33, 34, 35, 36, 37, 38, 39, 40, 41, 42, 43,\n",
              "       44, 45, 46, 47, 48, 49, 50])"
            ]
          },
          "metadata": {},
          "execution_count": 14
        }
      ]
    },
    {
      "cell_type": "markdown",
      "metadata": {
        "id": "yL3qc8vmhtMX"
      },
      "source": [
        "**Create an array of all the even integers from 10 to 50**"
      ]
    },
    {
      "cell_type": "code",
      "source": [
        "arr[arr%2==0]   #doubt"
      ],
      "metadata": {
        "id": "_K679d18XsRk",
        "colab": {
          "base_uri": "https://localhost:8080/"
        },
        "outputId": "2fe66ed2-88eb-4067-a183-c7d1f84303e9"
      },
      "execution_count": 67,
      "outputs": [
        {
          "output_type": "execute_result",
          "data": {
            "text/plain": [
              "array([10, 12, 14, 16, 18, 20, 22, 24, 26, 28, 30, 32, 34, 36, 38, 40, 42,\n",
              "       44, 46, 48, 50])"
            ]
          },
          "metadata": {},
          "execution_count": 67
        }
      ]
    },
    {
      "cell_type": "code",
      "metadata": {
        "colab": {
          "base_uri": "https://localhost:8080/"
        },
        "id": "0pckFbQGhw4Z",
        "outputId": "37c0f07d-2a06-4ea5-dc70-8b7b74bb6e7f"
      },
      "source": [
        "arr = np.arange(10,51,2)\n",
        "arr"
      ],
      "execution_count": 20,
      "outputs": [
        {
          "output_type": "execute_result",
          "data": {
            "text/plain": [
              "array([10, 12, 14, 16, 18, 20, 22, 24, 26, 28, 30, 32, 34, 36, 38, 40, 42,\n",
              "       44, 46, 48, 50])"
            ]
          },
          "metadata": {},
          "execution_count": 20
        }
      ]
    },
    {
      "cell_type": "markdown",
      "metadata": {
        "id": "SdtofJi_h5WM"
      },
      "source": [
        "**Create a 3x4 matrix with numbers ranging from 0 to 12**"
      ]
    },
    {
      "cell_type": "code",
      "source": [
        "arr = np.arange(12).reshape(3,4)"
      ],
      "metadata": {
        "id": "K8oyEzBdX0Zz"
      },
      "execution_count": 22,
      "outputs": []
    },
    {
      "cell_type": "code",
      "metadata": {
        "colab": {
          "base_uri": "https://localhost:8080/"
        },
        "id": "V_mDcyyPh0kM",
        "outputId": "6630ee26-362b-470a-ecd5-94c002236f79"
      },
      "source": [
        "arr"
      ],
      "execution_count": 23,
      "outputs": [
        {
          "output_type": "execute_result",
          "data": {
            "text/plain": [
              "array([[ 0,  1,  2,  3],\n",
              "       [ 4,  5,  6,  7],\n",
              "       [ 8,  9, 10, 11]])"
            ]
          },
          "metadata": {},
          "execution_count": 23
        }
      ]
    },
    {
      "cell_type": "markdown",
      "metadata": {
        "id": "TF63DVYdiHUp"
      },
      "source": [
        "**Create a 3x3 identity matrix**"
      ]
    },
    {
      "cell_type": "code",
      "source": [
        "arr= np.identity(3)"
      ],
      "metadata": {
        "id": "j6yc-24LX3nP"
      },
      "execution_count": 24,
      "outputs": []
    },
    {
      "cell_type": "code",
      "metadata": {
        "colab": {
          "base_uri": "https://localhost:8080/"
        },
        "id": "5Z8Kl49niDj_",
        "outputId": "90b9e3a6-b9f2-4c0d-ae69-2caba90158b0"
      },
      "source": [
        "arr"
      ],
      "execution_count": 25,
      "outputs": [
        {
          "output_type": "execute_result",
          "data": {
            "text/plain": [
              "array([[1., 0., 0.],\n",
              "       [0., 1., 0.],\n",
              "       [0., 0., 1.]])"
            ]
          },
          "metadata": {},
          "execution_count": 25
        }
      ]
    },
    {
      "cell_type": "markdown",
      "metadata": {
        "id": "7-TKphGniSni"
      },
      "source": [
        "**Use Numpy to generate a random number between 0 and 1**\n",
        "\n",
        "Note: output may differ from yours output"
      ]
    },
    {
      "cell_type": "code",
      "metadata": {
        "colab": {
          "base_uri": "https://localhost:8080/"
        },
        "id": "qqXA7JMPiRod",
        "outputId": "bbd922eb-d13f-40c4-eac0-99c676e3c199"
      },
      "source": [
        "np.random.randint(0,1)"
      ],
      "execution_count": 26,
      "outputs": [
        {
          "output_type": "execute_result",
          "data": {
            "text/plain": [
              "0"
            ]
          },
          "metadata": {},
          "execution_count": 26
        }
      ]
    },
    {
      "cell_type": "markdown",
      "metadata": {
        "id": "z3xKZYsSjDDE"
      },
      "source": [
        "**Use Numpy to generate an array of 25 random numbers sampled from a standard normal distribution**\n",
        "\n",
        "Note: output may differ from yours output"
      ]
    },
    {
      "cell_type": "code",
      "metadata": {
        "colab": {
          "base_uri": "https://localhost:8080/"
        },
        "id": "okMA4he2ib4V",
        "outputId": "1c42e596-afce-4554-d5ac-70711816b454"
      },
      "source": [
        "np.random.randn(25)"
      ],
      "execution_count": 27,
      "outputs": [
        {
          "output_type": "execute_result",
          "data": {
            "text/plain": [
              "array([-0.09813507, -1.68089558,  0.40633798,  0.95963968,  0.31255366,\n",
              "       -0.5939657 , -1.91495153, -0.92171788,  0.57124282,  0.78573772,\n",
              "       -0.0244277 ,  0.89665104, -1.55428349,  0.31316853,  0.15873301,\n",
              "       -1.09402796,  0.37170292,  2.10792776, -0.91532617,  1.58765878,\n",
              "       -0.15810937,  2.69230959, -0.32093012, -0.81032822, -0.74246064])"
            ]
          },
          "metadata": {},
          "execution_count": 27
        }
      ]
    },
    {
      "cell_type": "markdown",
      "metadata": {
        "id": "LNnEXURBjcLs"
      },
      "source": [
        "**Create an (10x10)array having numbers from 0.01 to 1 increasing by 0.01**"
      ]
    },
    {
      "cell_type": "code",
      "metadata": {
        "colab": {
          "base_uri": "https://localhost:8080/"
        },
        "id": "Fskh08Q1jmXp",
        "outputId": "393b56be-2af4-4765-d5a5-fd5458d3dc2b"
      },
      "source": [
        "np.linspace(0.01,1,100)"
      ],
      "execution_count": 28,
      "outputs": [
        {
          "output_type": "execute_result",
          "data": {
            "text/plain": [
              "array([0.01, 0.02, 0.03, 0.04, 0.05, 0.06, 0.07, 0.08, 0.09, 0.1 , 0.11,\n",
              "       0.12, 0.13, 0.14, 0.15, 0.16, 0.17, 0.18, 0.19, 0.2 , 0.21, 0.22,\n",
              "       0.23, 0.24, 0.25, 0.26, 0.27, 0.28, 0.29, 0.3 , 0.31, 0.32, 0.33,\n",
              "       0.34, 0.35, 0.36, 0.37, 0.38, 0.39, 0.4 , 0.41, 0.42, 0.43, 0.44,\n",
              "       0.45, 0.46, 0.47, 0.48, 0.49, 0.5 , 0.51, 0.52, 0.53, 0.54, 0.55,\n",
              "       0.56, 0.57, 0.58, 0.59, 0.6 , 0.61, 0.62, 0.63, 0.64, 0.65, 0.66,\n",
              "       0.67, 0.68, 0.69, 0.7 , 0.71, 0.72, 0.73, 0.74, 0.75, 0.76, 0.77,\n",
              "       0.78, 0.79, 0.8 , 0.81, 0.82, 0.83, 0.84, 0.85, 0.86, 0.87, 0.88,\n",
              "       0.89, 0.9 , 0.91, 0.92, 0.93, 0.94, 0.95, 0.96, 0.97, 0.98, 0.99,\n",
              "       1.  ])"
            ]
          },
          "metadata": {},
          "execution_count": 28
        }
      ]
    },
    {
      "cell_type": "markdown",
      "metadata": {
        "id": "aJk9hkikliYL"
      },
      "source": [
        "#Numpy Indexing and Slicing\n"
      ]
    },
    {
      "cell_type": "code",
      "metadata": {
        "colab": {
          "base_uri": "https://localhost:8080/"
        },
        "id": "oBLqBk-0lnKC",
        "outputId": "cee6af26-8bd0-471f-8934-6f467ab88a5c"
      },
      "source": [
        "ar = (np.arange(25)+1).reshape(5,5)\n",
        "ar"
      ],
      "execution_count": 31,
      "outputs": [
        {
          "output_type": "execute_result",
          "data": {
            "text/plain": [
              "array([[ 1,  2,  3,  4,  5],\n",
              "       [ 6,  7,  8,  9, 10],\n",
              "       [11, 12, 13, 14, 15],\n",
              "       [16, 17, 18, 19, 20],\n",
              "       [21, 22, 23, 24, 25]])"
            ]
          },
          "metadata": {},
          "execution_count": 31
        }
      ]
    },
    {
      "cell_type": "markdown",
      "metadata": {
        "id": "JjWRLf4omWwt"
      },
      "source": [
        "**extract array**\n",
        "\n",
        "[\n",
        "  [12,13,14],\n",
        "\n",
        "  [17,18,19],\n",
        "\n",
        "  [22,23,24]\n",
        "]"
      ]
    },
    {
      "cell_type": "code",
      "source": [
        "ar[2:,1:4]"
      ],
      "metadata": {
        "id": "_0yGSwZOYi3s",
        "colab": {
          "base_uri": "https://localhost:8080/"
        },
        "outputId": "6eecc506-11fd-47a7-f1fc-bf596e16bca6"
      },
      "execution_count": 32,
      "outputs": [
        {
          "output_type": "execute_result",
          "data": {
            "text/plain": [
              "array([[12, 13, 14],\n",
              "       [17, 18, 19],\n",
              "       [22, 23, 24]])"
            ]
          },
          "metadata": {},
          "execution_count": 32
        }
      ]
    },
    {
      "cell_type": "code",
      "metadata": {
        "id": "G_F5Qn-EmQnX",
        "colab": {
          "base_uri": "https://localhost:8080/"
        },
        "outputId": "430cf30b-b3cb-458b-848b-f74a485d6b3d"
      },
      "source": [
        ""
      ],
      "execution_count": null,
      "outputs": [
        {
          "output_type": "execute_result",
          "data": {
            "text/plain": [
              "array([[12, 13, 14],\n",
              "       [17, 18, 19],\n",
              "       [22, 23, 24]])"
            ]
          },
          "metadata": {},
          "execution_count": 37
        }
      ]
    },
    {
      "cell_type": "markdown",
      "metadata": {
        "id": "wIb1kQsSmupr"
      },
      "source": [
        "**extract array**\n",
        "\n",
        "[\n",
        "  [14, 13, 12],\n",
        "\n",
        "  [19, 18, 17],\n",
        "\n",
        "  [24, 23, 22]\n",
        "]"
      ]
    },
    {
      "cell_type": "code",
      "source": [
        "ar[2::,-2:-5:-1]"
      ],
      "metadata": {
        "id": "MhFM4MoxYlv7",
        "colab": {
          "base_uri": "https://localhost:8080/"
        },
        "outputId": "62ce3363-0191-482d-9c0b-8c6e299beba2"
      },
      "execution_count": 36,
      "outputs": [
        {
          "output_type": "execute_result",
          "data": {
            "text/plain": [
              "array([[14, 13, 12],\n",
              "       [19, 18, 17],\n",
              "       [24, 23, 22]])"
            ]
          },
          "metadata": {},
          "execution_count": 36
        }
      ]
    },
    {
      "cell_type": "code",
      "metadata": {
        "id": "0GbIQPLkm1vT",
        "colab": {
          "base_uri": "https://localhost:8080/"
        },
        "outputId": "704b22d1-9bee-4f6f-cdf6-1a78cf340811"
      },
      "source": [
        ""
      ],
      "execution_count": null,
      "outputs": [
        {
          "output_type": "execute_result",
          "data": {
            "text/plain": [
              "array([[14, 13, 12],\n",
              "       [19, 18, 17],\n",
              "       [24, 23, 22]])"
            ]
          },
          "metadata": {},
          "execution_count": 38
        }
      ]
    },
    {
      "cell_type": "markdown",
      "metadata": {
        "id": "Q3fF94y1m4qC"
      },
      "source": [
        "**extract array**\n",
        "\n",
        "[\n",
        "  [24, 23, 22],\n",
        "\n",
        "  [19, 18, 17],\n",
        "\n",
        "  [14, 13, 12],  \n",
        "]"
      ]
    },
    {
      "cell_type": "code",
      "source": [
        "ar[:-4:-1,-2:-5:-1]"
      ],
      "metadata": {
        "id": "7gNvYwYDYm3c",
        "colab": {
          "base_uri": "https://localhost:8080/"
        },
        "outputId": "5e85bb0d-63d3-4855-cb4c-f2105f9b64bb"
      },
      "execution_count": 40,
      "outputs": [
        {
          "output_type": "execute_result",
          "data": {
            "text/plain": [
              "array([[24, 23, 22],\n",
              "       [19, 18, 17],\n",
              "       [14, 13, 12]])"
            ]
          },
          "metadata": {},
          "execution_count": 40
        }
      ]
    },
    {
      "cell_type": "code",
      "metadata": {
        "id": "_ZqZT-l8m82Z",
        "colab": {
          "base_uri": "https://localhost:8080/"
        },
        "outputId": "621c9907-943d-4e0e-c7ab-698b33bab715"
      },
      "source": [
        ""
      ],
      "execution_count": null,
      "outputs": [
        {
          "output_type": "execute_result",
          "data": {
            "text/plain": [
              "array([[24, 23, 22],\n",
              "       [19, 18, 17],\n",
              "       [14, 13, 12]])"
            ]
          },
          "metadata": {},
          "execution_count": 40
        }
      ]
    },
    {
      "cell_type": "markdown",
      "metadata": {
        "id": "YHmvl3VrnEzY"
      },
      "source": [
        "#Split Concatinate"
      ]
    },
    {
      "cell_type": "code",
      "metadata": {
        "colab": {
          "base_uri": "https://localhost:8080/"
        },
        "id": "bNbdzPb8nH5c",
        "outputId": "45c038f4-a442-45ab-9f85-3d57c65a0ff3"
      },
      "source": [
        "ar = np.arange(2,10)\n",
        "ar"
      ],
      "execution_count": 41,
      "outputs": [
        {
          "output_type": "execute_result",
          "data": {
            "text/plain": [
              "array([2, 3, 4, 5, 6, 7, 8, 9])"
            ]
          },
          "metadata": {},
          "execution_count": 41
        }
      ]
    },
    {
      "cell_type": "markdown",
      "metadata": {
        "id": "Q7JpN_ElnV0E"
      },
      "source": [
        "**Split array to generate 3 arrays with content**\n",
        "\n",
        "[2,3,4]\n",
        "\n",
        "[5, 6]\n",
        "\n",
        "[]\n",
        "\n",
        "[7,8,9]"
      ]
    },
    {
      "cell_type": "code",
      "source": [
        ""
      ],
      "metadata": {
        "id": "inGoi-SxYp1u",
        "colab": {
          "base_uri": "https://localhost:8080/"
        },
        "outputId": "ad70c521-2170-49c8-9f77-5bcfab74c329"
      },
      "execution_count": 43,
      "outputs": [
        {
          "output_type": "execute_result",
          "data": {
            "text/plain": [
              "array([2, 3, 4])"
            ]
          },
          "metadata": {},
          "execution_count": 43
        }
      ]
    },
    {
      "cell_type": "code",
      "metadata": {
        "colab": {
          "base_uri": "https://localhost:8080/"
        },
        "id": "DD9ppBCpnR94",
        "outputId": "44892da8-6f85-4f3f-abf8-a599e08c3594"
      },
      "source": [
        ""
      ],
      "execution_count": null,
      "outputs": [
        {
          "output_type": "execute_result",
          "data": {
            "text/plain": [
              "[array([2, 3, 4]), array([5, 6]), array([], dtype=int64), array([7, 8, 9])]"
            ]
          },
          "metadata": {},
          "execution_count": 44
        }
      ]
    },
    {
      "cell_type": "markdown",
      "source": [
        "**2D**"
      ],
      "metadata": {
        "id": "tUdDNIHJYvFr"
      }
    },
    {
      "cell_type": "code",
      "metadata": {
        "id": "waNqYReToJvC"
      },
      "source": [
        "a = np.array([\n",
        "              [1,2,3],\n",
        "              [4,5,6]\n",
        "])\n",
        "b = np.array([\n",
        "              [7,8,9]\n",
        "])"
      ],
      "execution_count": 44,
      "outputs": []
    },
    {
      "cell_type": "markdown",
      "metadata": {
        "id": "D9KgMNsOn__h"
      },
      "source": [
        "**Concatinate array to create new array with content**\n",
        "\n",
        "[\n",
        "  [1,2,3],\n",
        "\n",
        "  [4,5,6],\n",
        "  \n",
        "  [7,8,9]\n",
        "]"
      ]
    },
    {
      "cell_type": "code",
      "source": [
        "np.concatenate((a,b),axis=0)"
      ],
      "metadata": {
        "id": "Q2Xv0AZRY4ZQ",
        "colab": {
          "base_uri": "https://localhost:8080/"
        },
        "outputId": "974e816f-8515-4fb7-f59b-49c1143076ff"
      },
      "execution_count": 48,
      "outputs": [
        {
          "output_type": "execute_result",
          "data": {
            "text/plain": [
              "array([[1, 2, 3],\n",
              "       [4, 5, 6],\n",
              "       [7, 8, 9]])"
            ]
          },
          "metadata": {},
          "execution_count": 48
        }
      ]
    },
    {
      "cell_type": "code",
      "metadata": {
        "colab": {
          "base_uri": "https://localhost:8080/"
        },
        "id": "uRc1NdAr_SRW",
        "outputId": "d99c6780-5f83-4b2f-c62e-c93c674db777"
      },
      "source": [
        "np.vstack([a,b])"
      ],
      "execution_count": 51,
      "outputs": [
        {
          "output_type": "execute_result",
          "data": {
            "text/plain": [
              "array([[1, 2, 3],\n",
              "       [4, 5, 6],\n",
              "       [7, 8, 9]])"
            ]
          },
          "metadata": {},
          "execution_count": 51
        }
      ]
    },
    {
      "cell_type": "code",
      "metadata": {
        "id": "3HZZlRPtobB1"
      },
      "source": [
        "a = np.array([\n",
        "              [1,2,3],\n",
        "              [4,5,6]\n",
        "])\n",
        "b = np.array([\n",
        "              [7,8,9, 10],\n",
        "              [11, 12, 13, 14]\n",
        "])"
      ],
      "execution_count": 54,
      "outputs": []
    },
    {
      "cell_type": "markdown",
      "metadata": {
        "id": "V9LH9_agowZr"
      },
      "source": [
        "**Concatinate array to create new array with content**\n",
        "\n",
        "[\n",
        "\n",
        "  [1,2,3, 7,8,9, 10],\n",
        "\n",
        "  [4,5,6, 11, 12, 13, 14]\n",
        "  \n",
        "]"
      ]
    },
    {
      "cell_type": "code",
      "metadata": {
        "id": "EivQu5Eaou4A",
        "colab": {
          "base_uri": "https://localhost:8080/"
        },
        "outputId": "5ae09cf0-4b85-4283-de11-901935848327"
      },
      "source": [
        "np.concatenate((a,b),axis=1)"
      ],
      "execution_count": 55,
      "outputs": [
        {
          "output_type": "execute_result",
          "data": {
            "text/plain": [
              "array([[ 1,  2,  3,  7,  8,  9, 10],\n",
              "       [ 4,  5,  6, 11, 12, 13, 14]])"
            ]
          },
          "metadata": {},
          "execution_count": 55
        }
      ]
    },
    {
      "cell_type": "code",
      "metadata": {
        "colab": {
          "base_uri": "https://localhost:8080/"
        },
        "id": "AwPpcU7i_qrJ",
        "outputId": "108fadfe-e31f-4ddd-a2e5-26b35c54097f"
      },
      "source": [
        "np.hstack([a,b])"
      ],
      "execution_count": 56,
      "outputs": [
        {
          "output_type": "execute_result",
          "data": {
            "text/plain": [
              "array([[ 1,  2,  3,  7,  8,  9, 10],\n",
              "       [ 4,  5,  6, 11, 12, 13, 14]])"
            ]
          },
          "metadata": {},
          "execution_count": 56
        }
      ]
    },
    {
      "cell_type": "markdown",
      "metadata": {
        "id": "-uCyX-bvo-23"
      },
      "source": [
        "#Broadcasting and Indexing\n",
        "\n",
        "below array is created using random values so your output may differ. "
      ]
    },
    {
      "cell_type": "code",
      "metadata": {
        "colab": {
          "base_uri": "https://localhost:8080/"
        },
        "id": "dmdf9qNgpDGt",
        "outputId": "8ecd10ca-de5e-4589-bd25-6ba1dfaf5f7a"
      },
      "source": [
        "ar = np.round(np.random.rand(10)*10)\n",
        "ar"
      ],
      "execution_count": 58,
      "outputs": [
        {
          "output_type": "execute_result",
          "data": {
            "text/plain": [
              "array([ 3.,  5.,  2.,  3.,  5.,  3., 10.,  6.,  3.,  3.])"
            ]
          },
          "metadata": {},
          "execution_count": 58
        }
      ]
    },
    {
      "cell_type": "markdown",
      "metadata": {
        "id": "UWHDTOfMpWhs"
      },
      "source": [
        "**create new array containing all numbers which are smaller than 10 in ar**"
      ]
    },
    {
      "cell_type": "code",
      "metadata": {
        "id": "6hwVV5lWpU8s",
        "colab": {
          "base_uri": "https://localhost:8080/"
        },
        "outputId": "b357ea6a-7600-40d7-f997-9ee2bdd8d8fc"
      },
      "source": [
        "ar[ar<10]"
      ],
      "execution_count": 61,
      "outputs": [
        {
          "output_type": "execute_result",
          "data": {
            "text/plain": [
              "array([3., 5., 2., 3., 5., 3., 6., 3., 3.])"
            ]
          },
          "metadata": {},
          "execution_count": 61
        }
      ]
    },
    {
      "cell_type": "markdown",
      "metadata": {
        "id": "GlwR-PQdpmGD"
      },
      "source": [
        "**create new array containing all numbers which are in range [3, 11] in ar**"
      ]
    },
    {
      "cell_type": "code",
      "metadata": {
        "id": "aVBrLn2Hpr1n",
        "colab": {
          "base_uri": "https://localhost:8080/"
        },
        "outputId": "0d2bf765-c3c6-4810-cfa6-bfe1c00fcf39"
      },
      "source": [
        "ar[(ar>=3) & (ar<=11)]"
      ],
      "execution_count": 71,
      "outputs": [
        {
          "output_type": "execute_result",
          "data": {
            "text/plain": [
              "array([ 3.,  5.,  3.,  5.,  3., 10.,  6.,  3.,  3.])"
            ]
          },
          "metadata": {},
          "execution_count": 71
        }
      ]
    },
    {
      "cell_type": "markdown",
      "metadata": {
        "id": "aGY4VLiPptFG"
      },
      "source": [
        "**count how many numbers are minimum in ar**\n",
        "\n",
        "example for arr = [2, 4, 6, 2, 9, 2]\n",
        "\n",
        "min is 2\n",
        "\n",
        "there are 3 occurences of 2"
      ]
    },
    {
      "cell_type": "code",
      "metadata": {
        "colab": {
          "base_uri": "https://localhost:8080/"
        },
        "id": "gIdSqYkmAgNw",
        "outputId": "3e6cb36b-fe64-42f9-e794-dd33cd8ac333"
      },
      "source": [
        "arr = np.round(np.random.rand(10)*10)\n",
        "arr"
      ],
      "execution_count": 82,
      "outputs": [
        {
          "output_type": "execute_result",
          "data": {
            "text/plain": [
              "array([ 7.,  9.,  4.,  8.,  3.,  2.,  2., 10.,  5.,  1.])"
            ]
          },
          "metadata": {},
          "execution_count": 82
        }
      ]
    },
    {
      "cell_type": "code",
      "metadata": {
        "id": "EgT3w1GUqVRM",
        "colab": {
          "base_uri": "https://localhost:8080/"
        },
        "outputId": "6e4d7363-fc27-4d9a-ffe9-de427fd28baf"
      },
      "source": [
        "print(arr.min())\n",
        "#method1\n",
        "print((arr==arr.min()).sum())\n",
        "# method2\n",
        "print(arr[arr==arr.min()].size)"
      ],
      "execution_count": 85,
      "outputs": [
        {
          "output_type": "stream",
          "name": "stdout",
          "text": [
            "1.0\n",
            "1\n",
            "1\n"
          ]
        }
      ]
    },
    {
      "cell_type": "markdown",
      "metadata": {
        "id": "dpBgZ_PjqXoR"
      },
      "source": [
        "**Create an array of length 20 with first 15 numbers equal to 2 and last 5 numbers = -5**"
      ]
    },
    {
      "cell_type": "code",
      "source": [
        "arr=np.arange(20)\n",
        "\n",
        "np.where(arr<15,2,-5)"
      ],
      "metadata": {
        "id": "sPzHcWMuZh1y",
        "colab": {
          "base_uri": "https://localhost:8080/"
        },
        "outputId": "8e767f7c-a038-4e7b-d3c4-e0a66c7a8cb1"
      },
      "execution_count": 88,
      "outputs": [
        {
          "output_type": "execute_result",
          "data": {
            "text/plain": [
              "array([ 2,  2,  2,  2,  2,  2,  2,  2,  2,  2,  2,  2,  2,  2,  2, -5, -5,\n",
              "       -5, -5, -5])"
            ]
          },
          "metadata": {},
          "execution_count": 88
        }
      ]
    },
    {
      "cell_type": "code",
      "metadata": {
        "id": "i4xc-k3WqoPi",
        "colab": {
          "base_uri": "https://localhost:8080/"
        },
        "outputId": "5e741e97-c4d5-46f5-e5a7-86acfaf2d0ba"
      },
      "source": [
        ""
      ],
      "execution_count": null,
      "outputs": [
        {
          "output_type": "execute_result",
          "data": {
            "text/plain": [
              "array([ 2.,  2.,  2.,  2.,  2.,  2.,  2.,  2.,  2.,  2.,  2.,  2.,  2.,\n",
              "        2.,  2., -5., -5., -5., -5., -5.])"
            ]
          },
          "metadata": {},
          "execution_count": 63
        }
      ]
    },
    {
      "cell_type": "markdown",
      "metadata": {
        "id": "4o5xRHS7sAh_"
      },
      "source": [
        "**Sum min max of all elements of matrix**"
      ]
    },
    {
      "cell_type": "code",
      "metadata": {
        "colab": {
          "base_uri": "https://localhost:8080/"
        },
        "id": "oFaWcgjysF-j",
        "outputId": "555a19d8-d808-46c7-da0c-ea30c2edee6a"
      },
      "source": [
        "mat = np.array(\n",
        "    [[57., 33., 44., 36., 11., 75., 51., 22., 86., 13.],\n",
        "       [51., 16., 30., 92., 66., 54., 73.,  2., 25., 12.],\n",
        "       [68., 14., 90., 27., 44., 54., 26., 61.,  1.,  3.],\n",
        "       [86., 82., 10., 76., 12.,  1., 15., 89., 75., 12.],\n",
        "       [85.,  6., 80., 14., 99., 12., 72., 14., 27., 20.]]\n",
        ")\n",
        "mat"
      ],
      "execution_count": 89,
      "outputs": [
        {
          "output_type": "execute_result",
          "data": {
            "text/plain": [
              "array([[57., 33., 44., 36., 11., 75., 51., 22., 86., 13.],\n",
              "       [51., 16., 30., 92., 66., 54., 73.,  2., 25., 12.],\n",
              "       [68., 14., 90., 27., 44., 54., 26., 61.,  1.,  3.],\n",
              "       [86., 82., 10., 76., 12.,  1., 15., 89., 75., 12.],\n",
              "       [85.,  6., 80., 14., 99., 12., 72., 14., 27., 20.]])"
            ]
          },
          "metadata": {},
          "execution_count": 89
        }
      ]
    },
    {
      "cell_type": "code",
      "source": [
        "mat.min()"
      ],
      "metadata": {
        "id": "zuoKYd8YZyEi",
        "colab": {
          "base_uri": "https://localhost:8080/"
        },
        "outputId": "3b51d0aa-1f4c-4779-a4ed-dd198e24c7eb"
      },
      "execution_count": 92,
      "outputs": [
        {
          "output_type": "execute_result",
          "data": {
            "text/plain": [
              "1.0"
            ]
          },
          "metadata": {},
          "execution_count": 92
        }
      ]
    },
    {
      "cell_type": "code",
      "source": [
        "mat.sum()"
      ],
      "metadata": {
        "colab": {
          "base_uri": "https://localhost:8080/"
        },
        "id": "GJ8T27sFkMmB",
        "outputId": "62be3185-76b2-4550-9880-274eab06658b"
      },
      "execution_count": 94,
      "outputs": [
        {
          "output_type": "execute_result",
          "data": {
            "text/plain": [
              "2124.0"
            ]
          },
          "metadata": {},
          "execution_count": 94
        }
      ]
    },
    {
      "cell_type": "code",
      "metadata": {
        "id": "jJZKNPsYsFb-",
        "colab": {
          "base_uri": "https://localhost:8080/"
        },
        "outputId": "754232c1-55ae-4cbe-fe2c-2bb736804c77"
      },
      "source": [
        "mat.max()"
      ],
      "execution_count": 93,
      "outputs": [
        {
          "output_type": "execute_result",
          "data": {
            "text/plain": [
              "99.0"
            ]
          },
          "metadata": {},
          "execution_count": 93
        }
      ]
    },
    {
      "cell_type": "markdown",
      "metadata": {
        "id": "BLvLnGGNsYdv"
      },
      "source": [
        "**Standard deviation of mat**"
      ]
    },
    {
      "cell_type": "code",
      "source": [
        "mat.std()"
      ],
      "metadata": {
        "id": "71f2xa6zZxVK",
        "colab": {
          "base_uri": "https://localhost:8080/"
        },
        "outputId": "57e9c804-7128-4dd7-e56e-56c7fbfa6641"
      },
      "execution_count": 95,
      "outputs": [
        {
          "output_type": "execute_result",
          "data": {
            "text/plain": [
              "30.531452634946806"
            ]
          },
          "metadata": {},
          "execution_count": 95
        }
      ]
    },
    {
      "cell_type": "code",
      "metadata": {
        "id": "3surFJbasbWX",
        "colab": {
          "base_uri": "https://localhost:8080/"
        },
        "outputId": "bde8f259-288a-4038-9c45-fb2e3c93db9d"
      },
      "source": [
        ""
      ],
      "execution_count": null,
      "outputs": [
        {
          "output_type": "execute_result",
          "data": {
            "text/plain": [
              "28.664654192925475"
            ]
          },
          "metadata": {},
          "execution_count": 67
        }
      ]
    },
    {
      "cell_type": "markdown",
      "metadata": {
        "id": "0fJVpTNBsbqi"
      },
      "source": [
        "**Sum of all columns of mat**"
      ]
    },
    {
      "cell_type": "code",
      "source": [
        "mat.sum(axis=0)  #doubt"
      ],
      "metadata": {
        "id": "ffxz_0NQZ-iJ",
        "colab": {
          "base_uri": "https://localhost:8080/"
        },
        "outputId": "62b18092-e442-4048-c996-1d3510bd5129"
      },
      "execution_count": 97,
      "outputs": [
        {
          "output_type": "execute_result",
          "data": {
            "text/plain": [
              "array([347., 151., 254., 245., 232., 196., 237., 188., 214.,  60.])"
            ]
          },
          "metadata": {},
          "execution_count": 97
        }
      ]
    },
    {
      "cell_type": "code",
      "metadata": {
        "id": "p2xPyXinsfVS",
        "colab": {
          "base_uri": "https://localhost:8080/"
        },
        "outputId": "07cca1df-ac95-40cb-db23-9860a07ce736"
      },
      "source": [
        ""
      ],
      "execution_count": null,
      "outputs": [
        {
          "output_type": "execute_result",
          "data": {
            "text/plain": [
              "array([347., 151., 254., 245., 232., 196., 237., 188., 214.,  60.])"
            ]
          },
          "metadata": {},
          "execution_count": 15
        }
      ]
    },
    {
      "cell_type": "markdown",
      "metadata": {
        "id": "u_xIopR4B-7V"
      },
      "source": [
        "**create array of dimension same as arr using arr.shape variable**"
      ]
    },
    {
      "cell_type": "code",
      "metadata": {
        "id": "pkfSo-CBCCrF"
      },
      "source": [
        "arr = np.arange(100).reshape(4,5,5)\n",
        "dim = arr.shape"
      ],
      "execution_count": 98,
      "outputs": []
    },
    {
      "cell_type": "code",
      "metadata": {
        "id": "JyO5TFBcCMxa"
      },
      "source": [
        "arr = np.arange(arr.size).reshape(arr.shape)"
      ],
      "execution_count": 100,
      "outputs": []
    },
    {
      "cell_type": "code",
      "metadata": {
        "id": "AJM5JHKPCQ6V",
        "colab": {
          "base_uri": "https://localhost:8080/"
        },
        "outputId": "b6855818-373f-45c4-8a26-0997519fa134"
      },
      "source": [
        "arr"
      ],
      "execution_count": 101,
      "outputs": [
        {
          "output_type": "execute_result",
          "data": {
            "text/plain": [
              "array([[[ 0,  1,  2,  3,  4],\n",
              "        [ 5,  6,  7,  8,  9],\n",
              "        [10, 11, 12, 13, 14],\n",
              "        [15, 16, 17, 18, 19],\n",
              "        [20, 21, 22, 23, 24]],\n",
              "\n",
              "       [[25, 26, 27, 28, 29],\n",
              "        [30, 31, 32, 33, 34],\n",
              "        [35, 36, 37, 38, 39],\n",
              "        [40, 41, 42, 43, 44],\n",
              "        [45, 46, 47, 48, 49]],\n",
              "\n",
              "       [[50, 51, 52, 53, 54],\n",
              "        [55, 56, 57, 58, 59],\n",
              "        [60, 61, 62, 63, 64],\n",
              "        [65, 66, 67, 68, 69],\n",
              "        [70, 71, 72, 73, 74]],\n",
              "\n",
              "       [[75, 76, 77, 78, 79],\n",
              "        [80, 81, 82, 83, 84],\n",
              "        [85, 86, 87, 88, 89],\n",
              "        [90, 91, 92, 93, 94],\n",
              "        [95, 96, 97, 98, 99]]])"
            ]
          },
          "metadata": {},
          "execution_count": 101
        }
      ]
    },
    {
      "cell_type": "code",
      "source": [
        ""
      ],
      "metadata": {
        "id": "DJOMwc_9ly_K"
      },
      "execution_count": null,
      "outputs": []
    }
  ]
}